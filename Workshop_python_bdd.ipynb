{
 "cells": [
  {
   "cell_type": "markdown",
   "id": "af335934",
   "metadata": {},
   "source": [
    "# Step 1\n",
    "\n",
    "Pour commencer, dans un nouveau fichier Jupyter Notebook à votre nom, créer le premier dictionnaire \n",
    "vide client1"
   ]
  },
  {
   "cell_type": "code",
   "execution_count": 2,
   "id": "c1486300",
   "metadata": {},
   "outputs": [
    {
     "name": "stdout",
     "output_type": "stream",
     "text": [
      "{}\n"
     ]
    }
   ],
   "source": [
    "client1 = {}\n",
    "\n",
    "print(client1)"
   ]
  },
  {
   "cell_type": "markdown",
   "id": "6f585685",
   "metadata": {},
   "source": [
    "# Step 2\n",
    "\n",
    "Récupérer les 4 données du client1 en utilisant une boucle, qu’il rentrera directement en console. Puis \n",
    "imprimer les données du premier client. N’oubliez pas le commentaire dans le bloc."
   ]
  },
  {
   "cell_type": "code",
   "execution_count": 4,
   "id": "2c28f9b4",
   "metadata": {},
   "outputs": [
    {
     "name": "stdout",
     "output_type": "stream",
     "text": [
      "Quel attribut ? Nom\n",
      "Donnez le Nom: AGU\n",
      "Quel attribut ? Prénom\n",
      "Donnez le Prénom: Patrick\n",
      "Quel attribut ? Sexe\n",
      "Donnez le Sexe: M\n",
      "Quel attribut ? Solde\n",
      "Donnez le Solde: 3000\n"
     ]
    }
   ],
   "source": [
    "for i in range(4):\n",
    "    champs = input(\"Quel attribut ? \")\n",
    "    valeur = input(\"Donnez le \" + champs + \": \")\n",
    "    client1[champs] = valeur"
   ]
  },
  {
   "cell_type": "code",
   "execution_count": 5,
   "id": "31b4289f",
   "metadata": {
    "scrolled": true
   },
   "outputs": [
    {
     "name": "stdout",
     "output_type": "stream",
     "text": [
      "{'AGU': 'Patrick', 'Nom': 'AGU', 'Prénom': 'Patrick', 'Sexe': 'M', 'Solde': '3000'}\n"
     ]
    }
   ],
   "source": [
    "print(client1)"
   ]
  },
  {
   "cell_type": "markdown",
   "id": "8d61ed03",
   "metadata": {},
   "source": [
    "# Step 3\n",
    "\n",
    "Créer une liste de 13 dictionnaires (clients) qui possèdent les mêmes clés (attributs)"
   ]
  },
  {
   "cell_type": "code",
   "execution_count": 6,
   "id": "8cbe3eb8",
   "metadata": {},
   "outputs": [],
   "source": [
    "client2 = {}\n",
    "client3 = {}\n",
    "client4 = {}\n",
    "client5 = {}\n",
    "client6 = {}\n",
    "client7 = {}\n",
    "client8 = {}\n",
    "client9 = {}\n",
    "client10 = {}\n",
    "client11 = {}\n",
    "client12 = {}\n",
    "client13 = {}\n",
    "\n",
    "clients = [client1, client2, client3, client4, client5, client6, client7, client8, client9, client10, client11, client12, client13]"
   ]
  },
  {
   "cell_type": "markdown",
   "id": "afa31072",
   "metadata": {},
   "source": [
    "# Step 4\n",
    "Créer une boucle pour récupérer les données de tous les clients. Exécuter la pour entrer leurs données \n",
    "directement en console. N’oubliez pas les commentaires."
   ]
  },
  {
   "cell_type": "code",
   "execution_count": 8,
   "id": "5747ec17",
   "metadata": {},
   "outputs": [
    {
     "name": "stdout",
     "output_type": "stream",
     "text": [
      "Quel attribut ? Nom\n",
      "Donnez le Nom du client n°2 : JANAS\n",
      "Donnez le Nom du client n°3 : BAYAR\n",
      "Donnez le Nom du client n°4 : BONNIN\n",
      "Donnez le Nom du client n°5 : CARREY\n",
      "Donnez le Nom du client n°6 : CHELEDNIK\n",
      "Donnez le Nom du client n°7 : CHIKRI\n",
      "Donnez le Nom du client n°8 : DESSONLIN\n",
      "Donnez le Nom du client n°9 : LAKDHAR EZZINE\n",
      "Donnez le Nom du client n°10 : MEUNIER\n",
      "Donnez le Nom du client n°11 : MOHAMED\n",
      "Donnez le Nom du client n°12 : SADOUN\n",
      "Donnez le Nom du client n°13 : THEUREAU\n",
      "Quel attribut ? Prénom\n",
      "Donnez le Prénom du client n°2 : Bart\n",
      "Donnez le Prénom du client n°3 : Mun\n",
      "Donnez le Prénom du client n°4 : Philippe\n",
      "Donnez le Prénom du client n°5 : Raphael\n",
      "Donnez le Prénom du client n°6 : Alexandre\n",
      "Donnez le Prénom du client n°7 : Hassan\n",
      "Donnez le Prénom du client n°8 : Thibaut\n",
      "Donnez le Prénom du client n°9 : Hadjer\n",
      "Donnez le Prénom du client n°10 : Alexis\n",
      "Donnez le Prénom du client n°11 : Ahmed\n",
      "Donnez le Prénom du client n°12 : Salah\n",
      "Donnez le Prénom du client n°13 : Paul\n",
      "Quel attribut ? Sexe\n",
      "Donnez le Sexe du client n°2 : M\n",
      "Donnez le Sexe du client n°3 : M\n",
      "Donnez le Sexe du client n°4 : M\n",
      "Donnez le Sexe du client n°5 : M\n",
      "Donnez le Sexe du client n°6 : M\n",
      "Donnez le Sexe du client n°7 : M\n",
      "Donnez le Sexe du client n°8 : M\n",
      "Donnez le Sexe du client n°9 : M\n",
      "Donnez le Sexe du client n°10 : F\n",
      "Donnez le Sexe du client n°11 : M\n",
      "Donnez le Sexe du client n°12 : M\n",
      "Donnez le Sexe du client n°13 : M\n",
      "Quel attribut ? Solde\n",
      "Donnez le Solde du client n°2 : 3000\n",
      "Donnez le Solde du client n°3 : 1500\n",
      "Donnez le Solde du client n°4 : 4500\n",
      "Donnez le Solde du client n°5 : 5000\n",
      "Donnez le Solde du client n°6 : 3500\n",
      "Donnez le Solde du client n°7 : 2500\n",
      "Donnez le Solde du client n°8 : 4000\n",
      "Donnez le Solde du client n°9 : 1000\n",
      "Donnez le Solde du client n°10 : 3000\n",
      "Donnez le Solde du client n°11 : 2500\n",
      "Donnez le Solde du client n°12 : 6000\n",
      "Donnez le Solde du client n°13 : 4500\n"
     ]
    }
   ],
   "source": [
    "#lire les données de tous les clients\n",
    "for i in range(4):\n",
    "    #lire attribut pour chaque champ (clé)\n",
    "    champs = input(\"Quel attribut ? \")\n",
    "    # boucle imbriquée pour lire valeur de chaque colonne\n",
    "    j = 1\n",
    "    for client in clients:\n",
    "        if client == client1:\n",
    "            j +=1\n",
    "            continue\n",
    "        valeur = input(\"Donnez le \" + champs + \" du client n°\" + str(j) + \" : \")\n",
    "        if champs == \"Solde\":\n",
    "            client[champs] = int(valeur)\n",
    "        else: \n",
    "            client[champs] = valeur\n",
    "        j += 1"
   ]
  },
  {
   "cell_type": "markdown",
   "id": "79473e99",
   "metadata": {},
   "source": [
    "# Step 5\n",
    "Ecrire un bloc pour effectuer un retrait de 500 euros pour client4"
   ]
  },
  {
   "cell_type": "code",
   "execution_count": 9,
   "id": "d0929440",
   "metadata": {},
   "outputs": [
    {
     "name": "stdout",
     "output_type": "stream",
     "text": [
      "4000\n"
     ]
    }
   ],
   "source": [
    "client4[\"Solde\"] = client4[\"Solde\"] - 500\n",
    "print(client4[\"Solde\"])"
   ]
  },
  {
   "cell_type": "markdown",
   "id": "8924d404",
   "metadata": {},
   "source": [
    "# Step 6\n",
    "\n",
    "Ecrire un bloc pour afficher le Solde total"
   ]
  },
  {
   "cell_type": "code",
   "execution_count": null,
   "id": "7111db69",
   "metadata": {},
   "outputs": [],
   "source": [
    "soldetotal = 0\n",
    "for client in clients :\n",
    "    soldetotal = soldetotal + client[\"Solde\"]\n",
    "    \n",
    "soldetotal"
   ]
  },
  {
   "cell_type": "markdown",
   "id": "f15c4165",
   "metadata": {},
   "source": [
    "# Step 7\n",
    "\n",
    "Écrivez un bloc pour compter le nombre de clients féminins et masculins"
   ]
  },
  {
   "cell_type": "code",
   "execution_count": 11,
   "id": "a388aaae",
   "metadata": {},
   "outputs": [
    {
     "name": "stdout",
     "output_type": "stream",
     "text": [
      "12\n",
      "1\n"
     ]
    }
   ],
   "source": [
    "Male = 0\n",
    "Femelle = 0\n",
    "\n",
    "for client in clients :\n",
    "    if client[\"Sexe\"] == \"M\" :\n",
    "        Male += 1\n",
    "    else:\n",
    "        Femelle += 1\n",
    "\n",
    "print(Male)\n",
    "print(Femelle)"
   ]
  },
  {
   "cell_type": "markdown",
   "id": "49576f26",
   "metadata": {},
   "source": [
    "# Step 8\n",
    "\n",
    "Un nouveau client qui arrive KURDY Bassam avec un solde de 2000 euros, il faut l’ajouter dans la base de données avec ou sans méthode"
   ]
  },
  {
   "cell_type": "code",
   "execution_count": 13,
   "id": "e866cfc5",
   "metadata": {},
   "outputs": [
    {
     "data": {
      "text/plain": [
       "{'Nom': 'KURDY', 'Prénom': 'Bassam', 'Sexe': 'M', 'Solde': 2000}"
      ]
     },
     "execution_count": 13,
     "metadata": {},
     "output_type": "execute_result"
    }
   ],
   "source": [
    "client14 = {}\n",
    "\n",
    "client14[\"Nom\"] = \"KURDY\"\n",
    "client14[\"Prénom\"] = \"Bassam\"\n",
    "client14[\"Sexe\"] = \"M\"\n",
    "client14[\"Solde\"] = 2000\n",
    "clients.append(client14)\n",
    "\n",
    "clients[13]"
   ]
  },
  {
   "cell_type": "markdown",
   "id": "7819e042",
   "metadata": {},
   "source": [
    "# Bonus La Récursivité\n",
    "\n",
    "Écrire une fonction qui calcule la factorielle de n.\n",
    "\n",
    "En mathématiques, la factorielle d’un entier naturel n est le produit des nombres entiers strictement positifs inférieurs ou égaux à n. La factorielle est notée !\n",
    "\n",
    "Exemple : 6! = 6 * 5 * 4 * 3 * 2 *1 = 720"
   ]
  },
  {
   "cell_type": "code",
   "execution_count": 15,
   "id": "4e752298",
   "metadata": {},
   "outputs": [
    {
     "data": {
      "text/plain": [
       "6"
      ]
     },
     "execution_count": 15,
     "metadata": {},
     "output_type": "execute_result"
    }
   ],
   "source": [
    "def factoriel (n):\n",
    "    if n==0:\n",
    "        return 1\n",
    "    else:\n",
    "        return (n * factoriel (n-1))\n",
    "\n",
    "\n",
    "factoriel(3)"
   ]
  }
 ],
 "metadata": {
  "kernelspec": {
   "display_name": "Python 3 (ipykernel)",
   "language": "python",
   "name": "python3"
  },
  "language_info": {
   "codemirror_mode": {
    "name": "ipython",
    "version": 3
   },
   "file_extension": ".py",
   "mimetype": "text/x-python",
   "name": "python",
   "nbconvert_exporter": "python",
   "pygments_lexer": "ipython3",
   "version": "3.11.5"
  }
 },
 "nbformat": 4,
 "nbformat_minor": 5
}
