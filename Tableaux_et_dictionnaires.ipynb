{
 "cells": [
  {
   "cell_type": "markdown",
   "id": "9b3cdacc",
   "metadata": {},
   "source": [
    "# Les structures de données séquentielles (ou ordonnée)\n",
    "\n"
   ]
  },
  {
   "cell_type": "markdown",
   "id": "fc52f128",
   "metadata": {},
   "source": [
    "## Technique pour accéder au éléments d'une séquence"
   ]
  },
  {
   "cell_type": "markdown",
   "id": "e4169781",
   "metadata": {},
   "source": [
    "### Indexing\n",
    "\n",
    "L'indexing est une technique  permettant d'accéder directement à un élément de notre séquence grâce à leurs index."
   ]
  },
  {
   "cell_type": "code",
   "execution_count": 28,
   "id": "b61b876c",
   "metadata": {
    "scrolled": true
   },
   "outputs": [
    {
     "name": "stdout",
     "output_type": "stream",
     "text": [
      "Paris\n",
      "Marseille\n",
      "Marseille\n",
      "['Lyon', 'Marseille']\n"
     ]
    }
   ],
   "source": [
    "ville_de_france = [\"Paris\", \"Marseille\"] #Liste de chaînes de caractères\n",
    "\n",
    "print(ville_de_france[0]) # Retourne \"Paris\"\n",
    "print(ville_de_france[1]) # Retourne \"Marseille\"\n",
    "print(ville_de_france[-1]) # Retourne le dernier élément de la structure\n",
    "\n",
    "ville_de_france[0] = \"Lyon\" # Assigne une nouvelle valeur à l'index 0 : \"Paris\" devient \"Lyon\"\n",
    "print(ville_de_france)"
   ]
  },
  {
   "cell_type": "markdown",
   "id": "157aeeed",
   "metadata": {},
   "source": [
    "### Slicing\n",
    "\n",
    "[Documentation](https://devdocs.io/python~3.12/library/functions#slice)\n",
    "\n",
    "Permet d'accéder à une fourchette d'élément dans une séquence, en indiquant une fourchette d'index."
   ]
  },
  {
   "cell_type": "code",
   "execution_count": null,
   "id": "d6093109",
   "metadata": {},
   "outputs": [],
   "source": [
    "liste_nombre = [1,2,3,4,5,6]\n",
    "\n",
    "liste_nombre[:] # Récupère tout les éléments de la liste\n",
    "\n",
    "liste_nombre[1:] # Récupère les éléments de la liste à partir de l'index 1\n",
    "\n",
    "liste_nombre[:1] # Récupère les éléments de la liste jusqu'à l'index 1 (exclu)\n",
    "\n",
    "liste_nombre[::2] # Récupère les éléments de la liste par pas de 2\n",
    "\n",
    "liste_nombre[::-1] # Récupère les éléments de la liste dans le sens inverse"
   ]
  },
  {
   "cell_type": "markdown",
   "id": "8892f833",
   "metadata": {},
   "source": [
    ">  **Bonne pratique :** si la valeur que l'on veut spécifié est égal à la valeur par défaut alors on ne la spécifie pas."
   ]
  },
  {
   "cell_type": "markdown",
   "id": "fb90876b",
   "metadata": {},
   "source": [
    "## Les différents types de données séquentielles"
   ]
  },
  {
   "cell_type": "markdown",
   "id": "3dc2bd6e",
   "metadata": {},
   "source": [
    "### Les listes\n",
    "\n",
    "Une liste est une structure de données **muables** qui peut contenir une **séquence ordonnée d'éléments de différents types**. C'est la structure de données que l'on rencontre le plus souvent en Python."
   ]
  },
  {
   "cell_type": "code",
   "execution_count": 33,
   "id": "642d9259",
   "metadata": {},
   "outputs": [],
   "source": [
    "liste_nombre = [1,2,3,4,5,6] # Exemple de liste\n",
    "liste_nombre[-1] = 99 # La liste est un objet muable, je peux changer la valeur du dernier élément de \n",
    "                      # mon tableau par une autre valeur"
   ]
  },
  {
   "cell_type": "markdown",
   "id": "09973e54",
   "metadata": {},
   "source": [
    "#### Les méthodes sur les listes\n",
    "\n",
    "Pour manipuler une liste, on dispose de méthode. Une méthode c'est une fonction que l'on appelle sur un objet. Une méthode se définit à l'intérieur d'une classe et est destinée à agir sur les instances de cette classe, donc un objet.\n",
    "\n",
    "- .append() - Ajouter une valeur à la fin de la liste\n",
    "- .insert() - Insérer une valeur à un index spécifique\n",
    "- .extend() - Etendre une liste avec une nouvelle liste\n",
    "- len()     - La fonction len() permet de savoir combien d'éléments se trouvent dans une liste\n",
    "- sort()    - tri des valeur (croissants pour les entiers et alphabétique pour les strings). Accepte comme paramètre\n",
    "- .count()  - Compter le nombre d'occurence d'une valeur dans la liste\n"
   ]
  },
  {
   "cell_type": "code",
   "execution_count": 92,
   "id": "0c99679e",
   "metadata": {},
   "outputs": [
    {
     "data": {
      "text/plain": [
       "3"
      ]
     },
     "execution_count": 92,
     "metadata": {},
     "output_type": "execute_result"
    }
   ],
   "source": [
    "ville_de_france_2 = [\"Paris\", \"Marseille\"]\n",
    "\n",
    "ville_de_france_alt = [\"Amiens\", \"Nevers\"]\n",
    "\n",
    "\n",
    "\n",
    "ville_de_france_2.append(\"Dijon\") # Ajoute la valeur \"Dijon\" à la fin de notre tableau\n",
    "\n",
    "ville_de_france_2.insert(1, \"Lyon\") # Insérer à l'index 1 la valeur \"Lyon\"\n",
    "\n",
    "ville_de_france_2.extend(ville_de_france_alt) # Etendre une liste avec une nouvelle liste \n",
    "\n",
    "len(ville_de_france_2) # La fonction len permet de savoir combien d'éléments sont dans ma liste\n",
    "\n",
    "\n",
    "liste_de_nombre = [4,8987,233,7485,5,7354,93]\n",
    "\n",
    "liste_de_nombre.sort() #tri des valeur (croissants pour les entiers et alphabétique pour les strings). Accepte comme paramètre\n",
    "\n",
    "[1,2,3,1,4,3,1].count(1) # Compter le nombre d'occurence d'une valeur dans la liste\n",
    "\n",
    "    "
   ]
  },
  {
   "cell_type": "markdown",
   "id": "6f8f233e",
   "metadata": {},
   "source": [
    "### Les tuples\n",
    "\n",
    "On peut définir un tuple comme étant une liste que l'on ne peut pas modifier. On dit qu'il est immuable."
   ]
  },
  {
   "cell_type": "code",
   "execution_count": 42,
   "id": "c47e2663",
   "metadata": {
    "scrolled": true
   },
   "outputs": [
    {
     "ename": "TypeError",
     "evalue": "'tuple' object does not support item assignment",
     "output_type": "error",
     "traceback": [
      "\u001b[1;31m---------------------------------------------------------------------------\u001b[0m",
      "\u001b[1;31mTypeError\u001b[0m                                 Traceback (most recent call last)",
      "Cell \u001b[1;32mIn[42], line 4\u001b[0m\n\u001b[0;32m      1\u001b[0m tuple1 \u001b[38;5;241m=\u001b[39m (\u001b[38;5;241m1\u001b[39m, \u001b[38;5;241m2\u001b[39m, \u001b[38;5;241m3\u001b[39m)\n\u001b[0;32m      2\u001b[0m \u001b[38;5;28;01mpass\u001b[39;00m \n\u001b[1;32m----> 4\u001b[0m tuple1[\u001b[38;5;241m0\u001b[39m] \u001b[38;5;241m=\u001b[39m \u001b[38;5;241m7\u001b[39m\n",
      "\u001b[1;31mTypeError\u001b[0m: 'tuple' object does not support item assignment"
     ]
    }
   ],
   "source": [
    "tuple1 = (1, 2, 3)\n",
    "\n",
    "tuple1[0] = 7 #TypeError: 'tuple' object does not support item assignment. On ne peut pas modifier un tuple tel quel"
   ]
  },
  {
   "cell_type": "markdown",
   "id": "91a0d50c",
   "metadata": {},
   "source": [
    "### Les chaînes de caractères\n",
    "\n",
    "Les chaînes de caractères se comporte comme une structure de données sequentielles dans la  mesure où un string n'est qu'une séquence de caractère ordonné qui forme des mots. Tout comme les tuples, une chaîne de caractère est immuable, on ne peut donc pas la modifier. \n"
   ]
  },
  {
   "cell_type": "code",
   "execution_count": 3,
   "id": "537f2d4e",
   "metadata": {
    "scrolled": true
   },
   "outputs": [
    {
     "data": {
      "text/plain": [
       "'RgrLgad'"
      ]
     },
     "execution_count": 3,
     "metadata": {},
     "output_type": "execute_result"
    }
   ],
   "source": [
    "prenom_nom = \"Roger Legrand\"\n",
    "\n",
    "prenom_nom[2] #Retourne le troisième charactère de la chaîne de caractère.\n",
    "\n",
    "prenom_nom[::2] # Retourne un caractère sur deux."
   ]
  },
  {
   "cell_type": "markdown",
   "id": "15754ef7",
   "metadata": {},
   "source": [
    "> Dans l'exemple ci-dessus on pourrai croire que la manipulation des caractère constituent une modification de la string, mais on peut constater dans l'exemple ci-dessous que,  grâce à l'id de `prenom_nom` et l 'id de l'objet retourné par le **slicing**, ce sont en réalité deux objets différents. Par conséquent, l'objet `prenom_nom` n'a jamais changé."
   ]
  },
  {
   "cell_type": "code",
   "execution_count": null,
   "id": "76a4109d",
   "metadata": {},
   "outputs": [],
   "source": [
    "prenom_nom = \"Roger Legrand\"\n",
    "\n",
    "prenom_nom[2] #Retourne le troisième charactère de la chaîne de caractère.\n",
    "print(id(prenom_nom))\n",
    "id(prenom_nom[::2]) # Retourne un caractère sur deux."
   ]
  },
  {
   "cell_type": "markdown",
   "id": "9982185d",
   "metadata": {},
   "source": [
    "### Boucle for, condition et list par compréhension\n",
    "\n",
    "On peut utiliser une condition pour manipuler nos listes.\n",
    "\n",
    "#### Les conditions"
   ]
  },
  {
   "cell_type": "code",
   "execution_count": 7,
   "id": "9f7bc70d",
   "metadata": {},
   "outputs": [
    {
     "name": "stdout",
     "output_type": "stream",
     "text": [
      "Paris est présent dans la liste\n",
      "Angers n'est pas présent dans la liste\n"
     ]
    }
   ],
   "source": [
    "ville_de_france_2 = [\"Paris\", \"Marseille\"]\n",
    "\n",
    "def ville_existe(ville):\n",
    "    if ville in ville_de_france_2 :\n",
    "        print(f\"{ville} est présent dans la liste\")\n",
    "    \n",
    "    else:\n",
    "        print(f\"{ville} n'est pas présent dans la liste\")\n",
    "\n",
    "ville_existe(\"Paris\")\n",
    "ville_existe(\"Angers\")"
   ]
  },
  {
   "cell_type": "markdown",
   "id": "d88b5e2d",
   "metadata": {},
   "source": [
    "#### Boucle for, enumerate(), zip()\n",
    "\n",
    "utiliser une boucle for permet d'itérer sur chaque élément de notre liste pour les manipuler. Par exemple, modifier les valeurs pour que celles-ci soient en minuscule avec la méthode `.lower()`.\n",
    "\n",
    "La fonction `enumerate()`[Documentation](https://devdocs.io/python~3.11/library/functions#enumerate) permet de récupérer l'index et la valeur en même temps depuis une boucle for. \n",
    "\n",
    "La fonction `zip()` permet de récupérer les valeurs de deux listes en parallèle. La boucle `for` s'arrête lorsque la liste la plus petite est parcourue entièrement."
   ]
  },
  {
   "cell_type": "code",
   "execution_count": 102,
   "id": "7a0e02fb",
   "metadata": {},
   "outputs": [
    {
     "name": "stdout",
     "output_type": "stream",
     "text": [
      "['paris', 'marseille']\n",
      "La valeur Paris se trouve à l'index 0\n",
      "La valeur Marseille se trouve à l'index 1\n",
      "Le code postal de la ville de Paris est 75000\n",
      "Le code postal de la ville de Marseille est 13001\n"
     ]
    }
   ],
   "source": [
    "ville_low_case = []\n",
    "for ville in ville_de_france_2 :\n",
    "    ville_low_case.append(ville.lower())\n",
    "    \n",
    "print(ville_low_case)\n",
    "\n",
    "for index, valeur in enumerate(ville_de_france_2): # \n",
    "    print(f\"La valeur {valeur} se trouve à l'index {index}\")\n",
    "\n",
    "    \n",
    "code_postal = [75000, 13001]\n",
    "\n",
    "for ville, code_postal in zip(ville_de_france_2, code_postal): # Récupération des valeurs de deux listes en parallèle\n",
    "    print(f\"Le code postal de la ville de {ville} est {code_postal}\")\n"
   ]
  },
  {
   "cell_type": "markdown",
   "id": "5831701d",
   "metadata": {},
   "source": [
    "#### Compréhension de liste\n",
    "\n",
    "Une compréhension de liste (ou list comprehension) en Python est une syntaxe concise pour créer des listes.Cette méthode permet de filtrer et de transformer des éléments issus de n'importe quelle séquence ou itérable, et de construire une nouvelle liste."
   ]
  },
  {
   "cell_type": "code",
   "execution_count": 105,
   "id": "fc4351d6",
   "metadata": {},
   "outputs": [
    {
     "name": "stdout",
     "output_type": "stream",
     "text": [
      "[2, 4]\n"
     ]
    }
   ],
   "source": [
    "list_comp = [i for i in [1,2,3,4] if i%2 == 0] # Créer une nouvelle liste en prenant seulement les valeurs pairs.\n",
    "print(list_comp)"
   ]
  },
  {
   "cell_type": "markdown",
   "id": "bef25812",
   "metadata": {},
   "source": [
    "# Les structures de données non ordonnées (set, frozenset et dict)\n",
    "\n",
    "## Set et frozenset\n",
    "\n",
    "Collection non ordonnée d'objets distincts et qui peuvent être hachés. le frozenzet est la version immuable du set\n",
    "\n",
    "Les utilisations courantes incluent :\n",
    "- le test d'appartenance\n",
    "- l'élimination des doublons d'une séquence\n",
    "- le calcul d'opérations mathématiques telles que l'intersection, l'union, la différence et la différence symétrique."
   ]
  },
  {
   "cell_type": "code",
   "execution_count": null,
   "id": "c2b7e69b",
   "metadata": {},
   "outputs": [],
   "source": []
  },
  {
   "cell_type": "markdown",
   "id": "9c60b845",
   "metadata": {},
   "source": [
    "### Set en compréhension\n",
    "Comme pour les listes en compréhensions, les sets en compréhension permettent de créer un nouveau set à partir d'un set existants permettant de filtrer et de transformer ses éléments et de les stocker dans un nouveau set.\n",
    "\n"
   ]
  }
 ],
 "metadata": {
  "kernelspec": {
   "display_name": "Python 3 (ipykernel)",
   "language": "python",
   "name": "python3"
  },
  "language_info": {
   "codemirror_mode": {
    "name": "ipython",
    "version": 3
   },
   "file_extension": ".py",
   "mimetype": "text/x-python",
   "name": "python",
   "nbconvert_exporter": "python",
   "pygments_lexer": "ipython3",
   "version": "3.11.5"
  }
 },
 "nbformat": 4,
 "nbformat_minor": 5
}
