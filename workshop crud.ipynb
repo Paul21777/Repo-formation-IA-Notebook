{
 "cells": [
  {
   "cell_type": "markdown",
   "id": "c5c62177-7ff4-43d5-b57d-b80b08cec17d",
   "metadata": {},
   "source": [
    "# Créer une base de donnée, la sélectionner et créer une table"
   ]
  },
  {
   "cell_type": "code",
   "execution_count": null,
   "id": "48fe5bf9-5976-480c-b495-c8c62304a957",
   "metadata": {},
   "outputs": [],
   "source": [
    "CREATE DATABASE dbtest;\n",
    "\n",
    "USE dbtest;\n",
    "\n",
    "CREATE TABLE utilisateur (\n",
    "id INTEGER NOT NULL AUTO_INCREMENT PRIMARY KEY,\n",
    "nom VARCHAR(100),\n",
    "prenom VARCHAR(100),\n",
    "email VARCHAR(255) NOT NULL UNIQUE\n",
    ");"
   ]
  },
  {
   "cell_type": "markdown",
   "id": "2a237734-8672-4615-a6ca-a8434282c2b4",
   "metadata": {},
   "source": [
    "# Create\n",
    "- Réaliser une opération d'écriture dans une table de la base de donnée"
   ]
  },
  {
   "cell_type": "code",
   "execution_count": null,
   "id": "dc38ee64-1300-48ad-9098-56e1b67f4ba7",
   "metadata": {},
   "outputs": [],
   "source": [
    "INSERT INTO `utilisateur` (`nom`, `prenom`, `email`)\n",
    "VALUES ('Durantay', 'Quentin', 'quentin@gmail.com');"
   ]
  },
  {
   "cell_type": "markdown",
   "id": "37b712e8-17c6-4f89-b168-c6b629046dac",
   "metadata": {},
   "source": [
    "- On peut aussi réaliser plusieurs enregistrements en même temps"
   ]
  },
  {
   "cell_type": "code",
   "execution_count": null,
   "id": "6a6ef485-e426-4c7c-a4de-8e94c95b414c",
   "metadata": {},
   "outputs": [],
   "source": [
    "INSERT INTO `utilisateur` (`nom`, `prenom`, `email`)\n",
    "VALUES\n",
    "('Doe', 'John', 'john@yahoo.fr'),\n",
    "('Smith', 'Jane', 'jane@hotmail.com'),\n",
    "('Dupont', 'Sebastien', 'sebastien@orange.fr'),\n",
    "('Martin', 'Emilie', 'emilie@gmail.com');"
   ]
  },
  {
   "cell_type": "markdown",
   "id": "be86cc38-3164-4627-b705-cbae53892769",
   "metadata": {},
   "source": [
    "# Read\n",
    "- Les objets d’une table se lisent avec la commande**`SELECT FROM`**.\n",
    "- Lors de l’utilisation de cette commande, on mentionne quelles sont les colonnes que l’on veut afficher en les séparant par des virgules.\n",
    "- On peut aussi toutes les sélectionner grâce au signe `*`."
   ]
  },
  {
   "cell_type": "code",
   "execution_count": null,
   "id": "c862a169-28ba-452c-9f87-caf106ac27ef",
   "metadata": {},
   "outputs": [],
   "source": [
    "SELECT `nom`, `prenom`, `email` FROM utilisateur;"
   ]
  },
  {
   "cell_type": "markdown",
   "id": "9fe5b115-87e1-445e-8048-08f27507a9c2",
   "metadata": {},
   "source": [
    "# Update\n",
    "\n",
    "|   |   |\n",
    "|---|---|\n",
    "|**Mot clé**|**Description**|\n",
    "|_**UPDATE** table_|Signifie à SQL que vous souhaitez **mettre à jour de la donnée** dans votre BDD. Vous indiquez aussi la table dans laquelle se trouve(nt) le ou les objets que vous souhaitez modifier.|\n",
    "|_**SET** colonne = valeur_|Sert à indiquer à SQL quelles sont la ou les **colonnes à modifier**, et quelles sont la ou les **valeurs** qu’elles doivent désormais prendre.|\n",
    "|_**WHERE** colonne = valeur_|C’est ce qu’on appelle un **filtre**. Vous allez les voir plus en détail dans la partie 3, mais sachez qu’ils servent à **restreindre la commande** en cours à un ou des objets répondant à des conditions précises. Ici, on va mettre à jour uniquement l’objet dont l’id est 1, soit le premier utilisateur !|"
   ]
  },
  {
   "cell_type": "code",
   "execution_count": null,
   "id": "b9dd2b6b-27a1-40c7-b4d3-a53e39707c24",
   "metadata": {},
   "outputs": [],
   "source": [
    "UPDATE `utilisateur` SET `email` = 'quentind@gmail.com' WHERE `id` = '1';"
   ]
  },
  {
   "cell_type": "markdown",
   "id": "889c152d-8b88-4269-9711-a74851331ad1",
   "metadata": {},
   "source": [
    "> Il est tout à fait possible d’utiliser **`UPDATE`**  sans filtres (sans  **`WHERE`**). Néanmoins, la commande modifierait **tous les objets de notre table**. C’est très rarement ce que l’on souhaite."
   ]
  },
  {
   "cell_type": "markdown",
   "id": "547a2b18-d6aa-4b73-8bd7-51149a4bfd66",
   "metadata": {},
   "source": [
    "# Delete\n",
    "- On supprime les objets d’une table avec la commande **`DELETE`**. \n",
    "- Si on ne filtre pas avec **`WHERE`**, on risque de supprimer tous les objets de la table.\n",
    "- On peut supprimer une table ou une base de donnée avec la commande  **`DROP TABLE`**  ou  **`DROP DATABASE`** ."
   ]
  },
  {
   "cell_type": "markdown",
   "id": "bbc4dc8e-83dd-4438-9c8c-704f7b4364a5",
   "metadata": {},
   "source": [
    "# Filtres\n",
    "Pour réaliser une requête en fonction "
   ]
  },
  {
   "cell_type": "code",
   "execution_count": null,
   "id": "e0fa500a-ac4b-4955-9cf3-4f33d99213d2",
   "metadata": {},
   "outputs": [],
   "source": [
    "DELETE FROM `utilisateur` WHERE `id` = '2';\n",
    "DROP TABLE `utilisateur`;\n",
    "DROP DATABASE database1 ;"
   ]
  },
  {
   "cell_type": "code",
   "execution_count": null,
   "id": "cbfb6cac-032e-4a57-8a94-6f56a951e9cb",
   "metadata": {},
   "outputs": [],
   "source": [
    "SELECT * FROM utilisateur WHERE email LIKE \"%gmail.com\";"
   ]
  },
  {
   "cell_type": "markdown",
   "id": "8f3f60ce-f76f-43e7-9b07-a9ee0def5f4b",
   "metadata": {},
   "source": [
    "> On peut également effectuer un filtre à l'aide des opérateurs de comparaison à l'intérieur de notre clause WHERE."
   ]
  },
  {
   "cell_type": "code",
   "execution_count": null,
   "id": "561b69ca-3caf-444f-b3ce-b9eca543d222",
   "metadata": {},
   "outputs": [],
   "source": []
  }
 ],
 "metadata": {
  "kernelspec": {
   "display_name": "Python 3 (ipykernel)",
   "language": "python",
   "name": "python3"
  },
  "language_info": {
   "codemirror_mode": {
    "name": "ipython",
    "version": 3
   },
   "file_extension": ".py",
   "mimetype": "text/x-python",
   "name": "python",
   "nbconvert_exporter": "python",
   "pygments_lexer": "ipython3",
   "version": "3.9.18"
  }
 },
 "nbformat": 4,
 "nbformat_minor": 5
}
