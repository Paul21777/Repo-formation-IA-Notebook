{
 "cells": [
  {
   "cell_type": "code",
   "execution_count": 14,
   "metadata": {},
   "outputs": [],
   "source": [
    "from bs4 import BeautifulSoup\n",
    "import requests\n",
    "import re\n",
    "import pandas as pd"
   ]
  },
  {
   "cell_type": "code",
   "execution_count": 15,
   "metadata": {},
   "outputs": [],
   "source": [
    "response = requests.get(\"https://fr.lipsum.com/feed/html\").text\n"
   ]
  },
  {
   "cell_type": "code",
   "execution_count": 16,
   "metadata": {},
   "outputs": [],
   "source": [
    "soup = BeautifulSoup(response, 'html.parser')\n",
    "table = soup.find(class_=\"boxed\")"
   ]
  },
  {
   "cell_type": "code",
   "execution_count": 17,
   "metadata": {},
   "outputs": [],
   "source": [
    "result = {}\n",
    "for row in table.find_all('div'):\n",
    "    data = row.find_all('p')\n",
    "    for i in range(1, len(data), 2):\n",
    "        try:\n",
    "            result[data[i - 1].text] = int(data[i].text)\n",
    "        except ValueError:\n",
    "            # Handle the case where the string cannot be converted to an integer\n",
    "            result[data[i - 1].text] = None  # or any other appropriate value"
   ]
  },
  {
   "cell_type": "code",
   "execution_count": 18,
   "metadata": {},
   "outputs": [
    {
     "data": {
      "text/plain": [
       "{'\\nLorem ipsum dolor sit amet, consectetur adipiscing elit. Sed ligula dui, vehicula nec gravida non, facilisis at nibh. Sed at sagittis arcu. Maecenas blandit, neque vitae mollis rhoncus, massa turpis sagittis dui, a vestibulum ante ligula eu ligula. Sed aliquet, neque cursus accumsan gravida, nisl dui mollis urna, at tempus justo leo vitae odio. Suspendisse venenatis scelerisque nunc ac sodales. Nam rutrum leo ipsum, vitae efficitur lectus aliquam placerat. Vivamus condimentum erat a fermentum viverra. Nam gravida orci ac orci porttitor, ac malesuada nisl rhoncus. Class aptent taciti sociosqu ad litora torquent per conubia nostra, per inceptos himenaeos. Quisque sodales tortor vitae tortor egestas, sed porttitor metus ultrices. Cras pulvinar dapibus dui, eget pretium lacus laoreet quis. In felis quam, interdum nec venenatis quis, lacinia eget risus. Praesent magna est, feugiat ac fermentum non, mattis nec ipsum. Morbi nec lorem at ex interdum viverra ac sed velit. Vivamus eget enim ac dolor hendrerit commodo eget sed purus.\\n': None,\n",
       " '\\nDonec et mauris sagittis, vehicula ex semper, scelerisque enim. Phasellus ultrices tempor quam eu gravida. Mauris dapibus justo ut diam fringilla hendrerit. Integer gravida egestas sapien, nec sagittis quam fermentum sit amet. Ut a ullamcorper elit. Morbi rhoncus suscipit mi, vitae consequat nunc lacinia sit amet. Maecenas finibus dictum ipsum, at bibendum ante ullamcorper eget.\\n': None}"
      ]
     },
     "execution_count": 18,
     "metadata": {},
     "output_type": "execute_result"
    }
   ],
   "source": [
    "result"
   ]
  },
  {
   "cell_type": "code",
   "execution_count": 19,
   "metadata": {},
   "outputs": [
    {
     "data": {
      "text/plain": [
       "['9',\n",
       " '0',\n",
       " '3',\n",
       " '3',\n",
       " '6',\n",
       " '2',\n",
       " '8',\n",
       " '0',\n",
       " '9',\n",
       " '7',\n",
       " '0',\n",
       " '2',\n",
       " '5',\n",
       " '0',\n",
       " '1',\n",
       " '1',\n",
       " '4',\n",
       " '4',\n",
       " '5',\n",
       " '5',\n",
       " '3',\n",
       " '0',\n",
       " '0',\n",
       " '6',\n",
       " '0',\n",
       " '0',\n",
       " '3',\n",
       " '0',\n",
       " '0',\n",
       " '6',\n",
       " '0',\n",
       " '0',\n",
       " '5',\n",
       " '4',\n",
       " '6',\n",
       " '9',\n",
       " '3',\n",
       " '1',\n",
       " '4',\n",
       " '4',\n",
       " '1',\n",
       " '1',\n",
       " '0',\n",
       " '3',\n",
       " '3',\n",
       " '6',\n",
       " '2',\n",
       " '8',\n",
       " '0',\n",
       " '9',\n",
       " '7',\n",
       " '0',\n",
       " '2',\n",
       " '5',\n",
       " '0']"
      ]
     },
     "execution_count": 19,
     "metadata": {},
     "output_type": "execute_result"
    }
   ],
   "source": [
    "df = pd.DataFrame({'data': result})\n",
    "table = str(soup.find('div'))\n",
    "re.findall(\"[0-9]\", table)"
   ]
  }
 ],
 "metadata": {
  "kernelspec": {
   "display_name": ".venv",
   "language": "python",
   "name": "python3"
  },
  "language_info": {
   "codemirror_mode": {
    "name": "ipython",
    "version": 3
   },
   "file_extension": ".py",
   "mimetype": "text/x-python",
   "name": "python",
   "nbconvert_exporter": "python",
   "pygments_lexer": "ipython3",
   "version": "3.12.3"
  }
 },
 "nbformat": 4,
 "nbformat_minor": 2
}
