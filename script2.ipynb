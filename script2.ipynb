{
 "cells": [
  {
   "cell_type": "markdown",
   "metadata": {},
   "source": [
    "# RER Exercice"
   ]
  },
  {
   "cell_type": "markdown",
   "metadata": {},
   "source": [
    "## Règle de nommage\n",
    "**Variable** : Convention \"snake_case\" et minuscule\n",
    "\n",
    "**Constante** : Convention \"snake_case\" et majuscule"
   ]
  },
  {
   "cell_type": "markdown",
   "metadata": {},
   "source": [
    "## Variables et affectation\n",
    "**Variable** : Une variable est un emplacement de stockage nommé qui peut contenir des données pouvant être modifiées pendant l'exécution d'un programme.\n",
    "\n",
    "**Affectation** : Donné une valeur à une variable"
   ]
  },
  {
   "cell_type": "code",
   "execution_count": null,
   "metadata": {},
   "outputs": [],
   "source": [
    "##Variable et affectation\n",
    "a = 5 #La variable est \"a\", à laquelle on a affecté 5 "
   ]
  },
  {
   "cell_type": "markdown",
   "metadata": {},
   "source": [
    "> Application de la convention snake_case + minuscules"
   ]
  },
  {
   "cell_type": "markdown",
   "metadata": {},
   "source": [
    "## Constante\n",
    "**Constante** : Une constante est une variable dont la valeur est fixée et ne peut être modifiée tout au long de l'exécution d'un programme. Contrairement à une variable ordinaire, une fois qu'une constante est initialisée avec une valeur, cette valeur est censée rester la même."
   ]
  },
  {
   "cell_type": "code",
   "execution_count": 18,
   "metadata": {},
   "outputs": [],
   "source": [
    "# Exemple de variable\n",
    "CLE_API = 99876759335693028 #application de la convention snake_case + majuscules"
   ]
  },
  {
   "cell_type": "markdown",
   "metadata": {},
   "source": [
    "> application de la convention snake_case + majuscules"
   ]
  },
  {
   "cell_type": "markdown",
   "metadata": {},
   "source": [
    "## Cast\n",
    "La notion de **cast** correspond à la **conversion d’un type de données en un autre type de données**. Il peut arriver qu’on ait besoin de convertir une variable d’un type de données dans un autre type de données pour pouvoir l’utiliser dans un contexte spécifique.\n"
   ]
  },
  {
   "cell_type": "code",
   "execution_count": 21,
   "metadata": {},
   "outputs": [
    {
     "name": "stdout",
     "output_type": "stream",
     "text": [
      "8\n"
     ]
    }
   ],
   "source": [
    "a = 5\n",
    "b = \"3\"\n",
    "\n",
    "print(a+int(b))"
   ]
  },
  {
   "cell_type": "markdown",
   "metadata": {},
   "source": [
    "> La variable \"b\" doit nécessairement être converti en type entier pour pouvoir réaliser une addition avec la variable \"a\"."
   ]
  },
  {
   "cell_type": "markdown",
   "metadata": {},
   "source": [
    "# Portée des variables\n",
    "**Portée d'une variable** : La portée d'une variable désigne l'ensemble des blocs de code dans lequel elle peut être utilisé. La portée d'une variable dans une fonction correspond à la fonction elle même, et la valeur de cette variable ne pourra pas être utilisé à l'extérieur de la fonction.\n",
    "\n",
    "**Variable globale** : Variable appartenant à la portée global de notre code \n",
    "\n",
    "**Variable locale** : variable appartenant à un sous ensemble qui ne peut pas être utilisé tel quel dans la portée global"
   ]
  },
  {
   "cell_type": "code",
   "execution_count": 26,
   "metadata": {},
   "outputs": [
    {
     "name": "stdout",
     "output_type": "stream",
     "text": [
      "5\n"
     ]
    }
   ],
   "source": [
    "global_variable = 5\n",
    "\n",
    "def local_scope():\n",
    "    local_variable = 5\n",
    "\n",
    "print(global_variable)\n",
    "# print(local_variable) \n"
   ]
  },
  {
   "cell_type": "markdown",
   "metadata": {},
   "source": [
    "> L'instruction commentée produit une erreur car python ne peut pas exécuté une instruction incluant une variable affecté dans une scope plus local."
   ]
  },
  {
   "cell_type": "markdown",
   "metadata": {},
   "source": [
    "# Les adresses mémoires\n",
    "[Plus d'informations](https://medium.com/swlh/python-memory-management-7181d8a6ae5e)\n",
    "\n",
    "Les adresses mémoires fait référence à l'emplacement spécifique dans la RAM de l'ordinateur où sont stockées les données et les instructions d'un programme. Chaque emplacement de mémoire à une adresse unique qui peut être utilisée pour accéder à la donnée qui y est stockée. En Python, et dans la plupart des langage haut niveau, la gestion de la mémoire est abstraite et gérée automatiquement par le l'interpréteur. Dans les langages bas niveau comme le C, on peut directement manipuler ces adresses mémoires avec les pointeurs.\n",
    "\n",
    "On peut vérifier l'adresse mémoire d'une variable en utilisant la fonction `id()`"
   ]
  },
  {
   "cell_type": "code",
   "execution_count": 27,
   "metadata": {},
   "outputs": [
    {
     "name": "stdout",
     "output_type": "stream",
     "text": [
      "Integer object 10 referenced by variable x 0x7ffc85ab9448\n",
      "Integer object 10 referenced by variable y 0x7ffc85ab9448\n"
     ]
    }
   ],
   "source": [
    "var_1 = 10\n",
    "\n",
    "print(\"Integer object 10 referenced by variable x\", hex(id(var_1)))  \n",
    "\n",
    "var_2 = var_1\n",
    "\n",
    "print(\"Integer object 10 referenced by variable y\", hex(id(var_2)))\n"
   ]
  },
  {
   "cell_type": "markdown",
   "metadata": {},
   "source": [
    "> Dans l'exemple ci-dessus, on peut remarqué que même si les variables portent des noms différents, elles font bien références aux même emplacement mémoire."
   ]
  },
  {
   "cell_type": "markdown",
   "metadata": {},
   "source": [
    "## Types de variable\n",
    "|Type de Variable|Description|Exemple en Python|\n",
    "|---|---|---|\n",
    "|Integer (int)|Nombre entier sans virgule|`42`|\n",
    "|Float (float)|Nombre à virgule flottante|`3.14`|\n",
    "|String (str)|Chaîne de caractères|`\"Bonjour\"`|\n",
    "|Boolean (bool)|Vrai ou Faux|`True`, `False`|\n",
    "|Liste (list)|Collection ordonnée modifiable|`[1, 2, 3]`|\n",
    "|Tuple (tuple)|Collection ordonnée non modifiable|`(1, 2, 3)`|\n",
    "|Set (set)|Collection non ordonnée sans doublons|`{1, 2, 3}`|\n",
    "|Dictionary (dict)|Collection non ordonnée de paires clé-valeur|`{'a': 1, 'b': 2}`|"
   ]
  },
  {
   "cell_type": "markdown",
   "metadata": {},
   "source": [
    "## Les nombres de Friedman\n",
    "\n",
    "Les nombres de Friedman 3 sont des nombres qui peuvent s’exprimer avec tous leurs chiffres dans une expression mathé-\n",
    "matique.\n",
    "\n",
    "Par exemple, 347 est un nombre de Friedman car il peut s’écrire sous la forme 4 + 73. De même pour 127 qui peut s’écire\n",
    "sous la forme 27 − 1.\n",
    "\n",
    "Déterminez si les expressions suivantes correspondent à des nombres de Friedman. Pour cela, vous les écrirez en Python\n",
    "puis exécuterez le code correspondant.\n",
    "\n",
    "— 7 + 36\n",
    "\n",
    "— (3 + 4)3\n",
    "\n",
    "— 36 − 5\n",
    "\n",
    "— (1 + 28) × 5\n",
    "\n",
    "— (2 + 18)7"
   ]
  }
 ],
 "metadata": {
  "kernelspec": {
   "display_name": "Python 3 (ipykernel)",
   "language": "python",
   "name": "python3"
  },
  "language_info": {
   "codemirror_mode": {
    "name": "ipython",
    "version": 3
   },
   "file_extension": ".py",
   "mimetype": "text/x-python",
   "name": "python",
   "nbconvert_exporter": "python",
   "pygments_lexer": "ipython3",
   "version": "3.11.5"
  }
 },
 "nbformat": 4,
 "nbformat_minor": 2
}
