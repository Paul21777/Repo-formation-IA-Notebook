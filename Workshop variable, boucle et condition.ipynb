{
 "cells": [
  {
   "cell_type": "markdown",
   "id": "cd024b07",
   "metadata": {},
   "source": [
    "# Step 1 \n",
    "\n",
    "Ecrire une fonction main, qui renvoie comme valeur de retour un int. La fonction doit afficher dans la console : « Bienvenue dans le jeu de la dichotomie ! » et fermer le programme."
   ]
  },
  {
   "cell_type": "code",
   "execution_count": 2,
   "id": "5779953c",
   "metadata": {},
   "outputs": [
    {
     "name": "stdout",
     "output_type": "stream",
     "text": [
      "Bienvenue dans le jeu de la dichotomie !\n"
     ]
    }
   ],
   "source": [
    "def main():\n",
    "    #Greetings\n",
    "    print(\"Bienvenue dans le jeu de la dichotomie !\")\n",
    "    return 1\n",
    "\n",
    "if __name__ == \"__main__\":\n",
    "    main()"
   ]
  },
  {
   "cell_type": "markdown",
   "id": "c6395068",
   "metadata": {},
   "source": [
    "# Step 2 \n",
    "Dans la fonction main, récupérer le nom du joueur dans une variable userName, qu’il rentrera directement en console avec un commentaire."
   ]
  },
  {
   "cell_type": "code",
   "execution_count": null,
   "id": "c66b73ac",
   "metadata": {},
   "outputs": [],
   "source": [
    "def main():\n",
    "    #Greetings\n",
    "    print(\"Bienvenue dans le jeu de la dichotomie !\")\n",
    "    \n",
    "    #Ask user his name and store it in \"user_name\" variable\n",
    "    user_name = input(\"What is your name ?\")\n",
    "    \n",
    "    return 1\n",
    "\n",
    "if __name__ == \"__main__\":\n",
    "    main()"
   ]
  },
  {
   "cell_type": "markdown",
   "id": "7b82e24c",
   "metadata": {},
   "source": [
    "# Step 3 \n",
    "Donner les instructions du jeu en mettant en variable le nombre minimum et maximum. Exemple « Paul pense à un nombre entre 0 et 100 » où 0 est la valeur de la variable minValue et 100 est la valeur de la variable maxValue. Pourquoi ne peut-on pas mettre la variable directement dans la fonction print ?"
   ]
  },
  {
   "cell_type": "code",
   "execution_count": null,
   "id": "50b473ec",
   "metadata": {},
   "outputs": [],
   "source": [
    "def main():\n",
    "    \n",
    "    min_value = 0\n",
    "    max_value = 100\n",
    "    \n",
    "    #Greetings\n",
    "    print(\"Bienvenue dans le jeu de la dichotomie !\")\n",
    "    \n",
    "    #Ask user his name and store it in \"user_name\" variable\n",
    "    user_name = input(\"Quel est votre nom ?\")\n",
    "    \n",
    "    \n",
    "    #Ask the user to think of a number between two values (here \"min_value\" and \"max_value\") \n",
    "    #and store it in \"user_choice\" variable.\n",
    "    \n",
    "    #Python do not accept expressions in string, except through f-strings\n",
    "    user_choice = int(input(f\"{user_name} pense à un nombre entre {min_value} et {max_value}\"))\n",
    "    \n",
    "    \n",
    "   \n",
    "    \n",
    "    return 1\n",
    "\n",
    "if __name__ == \"__main__\":\n",
    "    main()"
   ]
  },
  {
   "cell_type": "markdown",
   "id": "f7a2ea29",
   "metadata": {},
   "source": [
    "# Step 4\n",
    "\n",
    "Maintenant créer une structure itérative avec les conditions nécessaires pour deviner le nombre par la méthode de « dichotomie ». N’oubliez pas d’initialiser un compteur et l’utiliser pour compter le nombre de fois nécessaire pour trouver le bon nombre. Quel type de boucle est la plus adaptée ? Si la réponse est bonne le jeu doit s’arrêter."
   ]
  },
  {
   "cell_type": "code",
   "execution_count": 31,
   "id": "a452d427",
   "metadata": {
    "scrolled": false
   },
   "outputs": [
    {
     "name": "stdout",
     "output_type": "stream",
     "text": [
      "Bienvenue dans le jeu de la dichotomie !\n",
      "Quel est votre nom ?Paul\n",
      "Paul pense à un nombre entre 0 et 100\n",
      "Est-ce votre nombre est plus grand, plus petit ou égal à 50 ? [+/-/=]75\n",
      "Vous devez choisir entre [+/-/=]. Rééssayez :\n",
      "Est-ce votre nombre est plus grand, plus petit ou égal à 50 ? [+/-/=]+\n",
      "Est-ce votre nombre est plus grand, plus petit ou égal à 75 ? [+/-/=]=\n",
      "Le jeu est terminé en 3 coups\n"
     ]
    }
   ],
   "source": [
    "def main():\n",
    "    \n",
    "    ### INITIALISATION VARIABLE ET FONCTIONS ###\n",
    "    def compute_interval_half(min,max):\n",
    "        out = int((min + (((max+1)-min)/2)))\n",
    "        return out\n",
    "    \n",
    "    min_value = 0\n",
    "    max_value = 100\n",
    "    interval_half = compute_interval_half(min_value, max_value) # Initialisation de l'interval à afficher en premier lieu\n",
    "    count = 0 # Initialisation du compteur\n",
    "    user_guess = \"\"\n",
    "    \n",
    "    ####################  FIN  #################\n",
    "    \n",
    "    print(\"Bienvenue dans le jeu de la dichotomie !\")\n",
    "    \n",
    "    #Demande à l'utilisateur son nom\n",
    "    user_name = input(\"Quel est votre nom ?\")\n",
    "    \n",
    "    #Ask the user to think of a number between two values (here \"min_value\" and \"max_value\") \n",
    "    #and store it in \"user_choice\" variable.\n",
    "    \n",
    "    #Python do not accept expressions in string, except through f-strings\n",
    "    print(f\"{user_name} pense à un nombre entre {min_value} et {max_value}\")\n",
    "    \n",
    "    #We have to generate a logical guess from the computer\n",
    "    #While the user guess is different from \"=\" the loop keeps running\n",
    "    while (user_guess != \"=\"):\n",
    "        \n",
    "        count +=1\n",
    "        \n",
    "        user_guess = input(f\"Est-ce votre nombre est plus grand, plus petit ou égal à {interval_half} ? [+/-/=]\")\n",
    "        \n",
    "        #if the user guess is \"+\", use formula to to determine the new interval to use and append number in \"user_guess\" variable\n",
    "        if (user_guess == \"+\"):\n",
    "            min_value = compute_interval_half(min_value,max_value)\n",
    "            interval_half = str(compute_interval_half(min_value,max_value))\n",
    "            \n",
    "        elif(user_guess == \"-\"):\n",
    "            max_value = compute_interval_half(min_value,max_value)\n",
    "            interval_half = str(compute_interval_half(min_value,max_value))\n",
    "            \n",
    "        elif(user_guess == \"=\"):\n",
    "            print(f\"Le jeu est terminé en {count} coups\")\n",
    "            \n",
    "        else:\n",
    "            print(\"Vous devez choisir entre [+/-/=]. Rééssayez :\")\n",
    "            \n",
    "            \n",
    "    \n",
    "    return 1\n",
    "\n",
    "if __name__ == \"__main__\":\n",
    "    main()"
   ]
  },
  {
   "cell_type": "code",
   "execution_count": null,
   "id": "d54e0502",
   "metadata": {},
   "outputs": [],
   "source": []
  }
 ],
 "metadata": {
  "kernelspec": {
   "display_name": "Python 3 (ipykernel)",
   "language": "python",
   "name": "python3"
  },
  "language_info": {
   "codemirror_mode": {
    "name": "ipython",
    "version": 3
   },
   "file_extension": ".py",
   "mimetype": "text/x-python",
   "name": "python",
   "nbconvert_exporter": "python",
   "pygments_lexer": "ipython3",
   "version": "3.11.5"
  }
 },
 "nbformat": 4,
 "nbformat_minor": 5
}
