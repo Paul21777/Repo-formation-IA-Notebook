{
 "cells": [
  {
   "cell_type": "markdown",
   "id": "b8c86ef9",
   "metadata": {
    "jp-MarkdownHeadingCollapsed": true
   },
   "source": [
    "# Les fichiers"
   ]
  },
  {
   "cell_type": "markdown",
   "id": "91ea1184",
   "metadata": {
    "jp-MarkdownHeadingCollapsed": true
   },
   "source": [
    "## Le mot clé `with`\n",
    "\n",
    "Il existe, en python, deux manière pour ouvrir un fichier.\n",
    "\n",
    "1. Méthode sans le mot clé `with`\n",
    "2. Méthode avec le mot clé `with`\n",
    "\n",
    "Avec `with` si pour une raison ou une autre l'ouverture ou la lecture du fichier conduit à une erreur, l'utilisation de `with` garantit la bonne fermeture du fichier."
   ]
  },
  {
   "cell_type": "markdown",
   "id": "86285e39",
   "metadata": {},
   "source": [
    "- Sans le mot clé `with` :"
   ]
  },
  {
   "cell_type": "code",
   "execution_count": 6,
   "id": "1f020bcd",
   "metadata": {},
   "outputs": [],
   "source": [
    "donnee_dans_fichier = open(\"source_entrainement_fichier/zoo.txt\", \"r\")\n",
    "\n",
    "donnee_dans_fichier.readlines()\n",
    "\n",
    "donnee_dans_fichier.close() # méthode pour fermer le fichier\n",
    "\n",
    "# donnee_dans_fichier.readlines()"
   ]
  },
  {
   "cell_type": "markdown",
   "id": "e2886c9e",
   "metadata": {},
   "source": [
    "> Dans l'exemple ci-dessus on essaye en dernière instruction de lire le contenu du fichier après sa fermeture : python renvoi alors une erreur."
   ]
  },
  {
   "cell_type": "markdown",
   "id": "99ef2421",
   "metadata": {},
   "source": [
    "- Avec le mot clé `with` :"
   ]
  },
  {
   "cell_type": "code",
   "execution_count": 8,
   "id": "57675275",
   "metadata": {},
   "outputs": [
    {
     "name": "stdout",
     "output_type": "stream",
     "text": [
      "girafe\n",
      "\n",
      "tigre\n",
      "\n",
      "singe\n",
      "\n",
      "souris\n",
      "\n"
     ]
    }
   ],
   "source": [
    "with open(\"source_entrainement_fichier/zoo.txt\", \"r\") as donnee_dans_fichier:\n",
    "    ligne = donnee_dans_fichier.readline()\n",
    "    while ligne != \"\":  # tant que la ligne qui est entrain d'être parcouru n'est\n",
    "                        # pas vide\n",
    "        print(ligne)\n",
    "        ligne = donnee_dans_fichier.readline()\n",
    "    "
   ]
  },
  {
   "cell_type": "markdown",
   "id": "563193e7",
   "metadata": {},
   "source": [
    "> Dans l'exemple ci-dessus, on réalise la même opération d'ouverture que dans le premier exemple mais en utilisant le mot clé `with`.`with` est couramment utilisé dans ce genre de contexte pour s'assurer que les fichiers ouverts seront fermés automatiquement une fois que l'exécution du programme quittera le bloc de code (la scope) créer par l'instruction `with`."
   ]
  },
  {
   "cell_type": "markdown",
   "id": "42b07883",
   "metadata": {},
   "source": [
    "> Complément d'informations : [Pythoniste - Les gestionnaires de contexte et l’instruction ‘with’ en Python](https://www.pythoniste.fr/python/les-gestionnaires-de-contexte-et-linstruction-with-en-python/)"
   ]
  },
  {
   "cell_type": "markdown",
   "id": "df0dd85a",
   "metadata": {},
   "source": [
    "## La fonction open()\n",
    "\n",
    "`open(file, mode='r', buffering=- 1, encoding=None, errors=None, newline=None, closefd=True, opener=None)`\n",
    "\n",
    "La fonction `open()` sert à ouvrir un fichier pour pouvoir le manipuler. il accepte plusieurs paramètres dont le chemin d'accès au fichier et le mode dans lequel le fichier doit être ouvert.\n"
   ]
  },
  {
   "cell_type": "markdown",
   "id": "f0663daa-7720-4c82-bf6a-9e5607629584",
   "metadata": {},
   "source": [
    "### Les différents modes que l'on peut utiliser\n",
    "\n",
    "|Character|Meaning|\n",
    "|---|---|\n",
    "|`'r'`|open for reading (default)|\n",
    "|`'w'`|open for writing, truncating the file first|\n",
    "|`'x'`|open for exclusive creation, failing if the file already exists|\n",
    "|`'a'`|open for writing, appending to the end of file if it exists|\n",
    "|`'b'`|binary mode|\n",
    "|`'t'`|text mode (default)|\n",
    "|`'+'`|open for updating (reading and writing)|\n",
    "\n"
   ]
  },
  {
   "cell_type": "code",
   "execution_count": null,
   "id": "0dc891d3",
   "metadata": {},
   "outputs": [],
   "source": [
    "donnee_dans_fichier = open(\"source_entrainement_fichier/zoo.txt\", \"r\")"
   ]
  },
  {
   "attachments": {},
   "cell_type": "markdown",
   "id": "70e5f40a",
   "metadata": {},
   "source": [
    "\n",
    "## [Lecture dans un fichier](https://python.sdv.univ-paris-diderot.fr/07_fichiers/#71-lecture-dans-un-fichier)"
   ]
  },
  {
   "cell_type": "markdown",
   "id": "b3563641-49ba-4f77-b245-4520355c0887",
   "metadata": {},
   "source": [
    "Pour lire dans un fichier, nous disposons de plusieurs méthodes :\n",
    "\n",
    "1. La méthode .readlines() : Renvoie une liste contenant toutes les lignes du fichier\n",
    "\n",
    "2. La méthode .read() : La méthode .readline() (sans s à la fin) lit une ligne d'un fichier et la renvoie sous forme de chaîne de caractères.\n",
    "\n",
    "3. La méthode .readline()\n",
    "\n",
    "4. Itération direct sur le fichier"
   ]
  },
  {
   "cell_type": "markdown",
   "id": "2f59ce02",
   "metadata": {},
   "source": [
    "### [Méthode .readlines()](https://python.sdv.univ-paris-diderot.fr/07_fichiers/#711-methode-readlines)"
   ]
  },
  {
   "cell_type": "markdown",
   "id": "0f36ad1d",
   "metadata": {},
   "source": [
    "Renvoie une liste contenant toutes les lignes du fichier"
   ]
  },
  {
   "cell_type": "code",
   "execution_count": 11,
   "id": "c6716068",
   "metadata": {},
   "outputs": [
    {
     "name": "stdout",
     "output_type": "stream",
     "text": [
      "['girafe\\n', 'tigre\\n', 'singe\\n', 'souris\\n']\n"
     ]
    }
   ],
   "source": [
    "with open(\"source_entrainement_fichier/zoo.txt\", \"r\") as donnee_dans_fichier:\n",
    "\n",
    "    liste_de_ligne = donnee_dans_fichier.readlines()\n",
    "\n",
    "print(liste_de_ligne)"
   ]
  },
  {
   "cell_type": "markdown",
   "id": "b9c02650",
   "metadata": {},
   "source": [
    "> Remarque : les `\\n` correspond au saut de ligne, que l'on peut aussi retrouver sous la forme octale `\\012`"
   ]
  },
  {
   "cell_type": "markdown",
   "id": "b07be001",
   "metadata": {},
   "source": [
    "### [Méthode .readline()](https://python.sdv.univ-paris-diderot.fr/07_fichiers/#712-methode-read)"
   ]
  },
  {
   "cell_type": "markdown",
   "id": "0dc222db",
   "metadata": {},
   "source": [
    "La méthode .readline() (sans s à la fin) lit une ligne d'un fichier et la renvoie sous forme de chaîne de caractères. À chaque nouvel appel de .readline(), la ligne suivante est renvoyée. Associée à la boucle while, cette méthode permet de lire un fichier ligne par ligne."
   ]
  },
  {
   "cell_type": "code",
   "execution_count": 7,
   "id": "8092a024",
   "metadata": {},
   "outputs": [
    {
     "name": "stdout",
     "output_type": "stream",
     "text": [
      "poisson\n",
      "\n",
      "chat\n",
      "\n",
      "abeille\n",
      "\n"
     ]
    }
   ],
   "source": [
    "with open(\"source_entrainement_fichier/zoo.txt\", \"r\") as filin:\n",
    "    ligne = filin.readline()\n",
    "    while ligne != \"\":\n",
    "        print(ligne)\n",
    "        ligne = filin.readline()"
   ]
  },
  {
   "cell_type": "markdown",
   "id": "5f4065df",
   "metadata": {},
   "source": [
    "### Itérations directe sur le fichier\n",
    "\n",
    "Grâce à Python, on peut très facilement réaliser une itération avec les éléments de notre fichier"
   ]
  },
  {
   "cell_type": "code",
   "execution_count": 9,
   "id": "0f470f41",
   "metadata": {},
   "outputs": [
    {
     "name": "stdout",
     "output_type": "stream",
     "text": [
      "poisson\n",
      "\n",
      "chat\n",
      "\n",
      "abeille\n",
      "\n"
     ]
    }
   ],
   "source": [
    "with open(\"source_entrainement_fichier/zoo.txt\", \"r\") as filin:\n",
    "    for ligne in filin:\n",
    "        print(ligne)"
   ]
  },
  {
   "cell_type": "markdown",
   "id": "3c66a775",
   "metadata": {},
   "source": [
    "## Ecriture dans un fichier\n",
    "\n",
    "Pour écrire dans un fichier, il nous suffit de changer le mot d'ouverture de notre document. Jusqu'à maintenant, nous n'avons utiliser que le mode `r` pour `read`, nous allons maintenant utiliser le mode `w` comme `write`."
   ]
  },
  {
   "cell_type": "code",
   "execution_count": 10,
   "id": "c9c363e0",
   "metadata": {},
   "outputs": [
    {
     "name": "stdout",
     "output_type": "stream",
     "text": [
      "--------------\n",
      " AVANT \n",
      "--------------\n",
      "poisson\n",
      "\n",
      "chat\n",
      "\n",
      "abeille\n",
      "\n",
      "--------------\n",
      " APRES \n",
      "--------------\n",
      "chat\n",
      "\n",
      "chien\n",
      "\n",
      "ours\n",
      "\n"
     ]
    }
   ],
   "source": [
    "animaux_a_ecrire_1 = [\"poisson\", \"chat\", \"abeille\"]\n",
    "\n",
    "animaux_a_ecrire_2 = [\"chat\", \"chien\", \"ours\"]\n",
    "\n",
    "with open(\"source_entrainement_fichier/zoo.txt\", \"w\") as donnees_dans_fichier:\n",
    "    for animal in animaux_a_ecrire_1:\n",
    "        donnees_dans_fichier.write(f\"{animal}\\n\")\n",
    "\n",
    "with open(\"source_entrainement_fichier/zoo.txt\", \"r\") as donnees_dans_fichier:\n",
    "    print(\"--------------\\n AVANT \\n--------------\")\n",
    "    for ligne in donnees_dans_fichier:\n",
    "        print(ligne)\n",
    "\n",
    "with open(\"source_entrainement_fichier/zoo.txt\", \"w\") as donnees_dans_fichier:\n",
    "    for animal in animaux_a_ecrire_2:\n",
    "        donnees_dans_fichier.write(f\"{animal}\\n\")\n",
    "        \n",
    "with open(\"source_entrainement_fichier/zoo.txt\", \"r\") as donnees_dans_fichier:\n",
    "    print(\"--------------\\n APRES \\n--------------\")\n",
    "    for ligne in donnees_dans_fichier:\n",
    "        print(ligne)"
   ]
  },
  {
   "cell_type": "markdown",
   "id": "759b7ee8",
   "metadata": {},
   "source": [
    "> Remarque : Le mode `w` écrase les données précédemment inscrite dans le fichier (si il y en a déjà) avec les nouvelles données."
   ]
  },
  {
   "cell_type": "markdown",
   "id": "5e5900d2",
   "metadata": {},
   "source": [
    "Si, au lieu d'écraser les données déjà présente dans le documents je souhaite simplement ajouter les nouvelles donnée à la fin avec le mode `a` comme `append`."
   ]
  },
  {
   "cell_type": "code",
   "execution_count": 11,
   "id": "917555fa",
   "metadata": {
    "scrolled": true
   },
   "outputs": [
    {
     "name": "stdout",
     "output_type": "stream",
     "text": [
      "--------------\n",
      " AVANT \n",
      "--------------\n",
      "--------------\n",
      " APRES \n",
      "--------------\n",
      "poisson\n",
      "\n",
      "chat\n",
      "\n",
      "abeille\n",
      "\n"
     ]
    }
   ],
   "source": [
    "animaux_a_ajouter = [\"poisson\", \"chat\", \"abeille\"]\n",
    "\n",
    "with open(\"source_entrainement_fichier/zoo.txt\", \"w\") as donnees_dans_fichier:\n",
    "    for animal in animaux_a_ajouter:\n",
    "        donnees_dans_fichier.write(\"\") # Pour effacer le contenu si il existe\n",
    "\n",
    "\n",
    "with open(\"source_entrainement_fichier/zoo.txt\", \"r\") as donnees_dans_fichier:\n",
    "    print(\"--------------\\n AVANT \\n--------------\")\n",
    "    for ligne in donnees_dans_fichier:\n",
    "        print(ligne)\n",
    "\n",
    "with open(\"source_entrainement_fichier/zoo.txt\", \"a\") as donnees_dans_fichier:\n",
    "    for animal in animaux_a_ajouter:\n",
    "        donnees_dans_fichier.write(f\"{animal}\\n\")\n",
    "        \n",
    "        \n",
    "with open(\"source_entrainement_fichier/zoo.txt\", \"r\") as donnees_dans_fichier:\n",
    "    print(\"--------------\\n APRES \\n--------------\")\n",
    "    for ligne in donnees_dans_fichier:\n",
    "        print(ligne)\n",
    "\n",
    "    \n"
   ]
  },
  {
   "cell_type": "markdown",
   "id": "20529530-9554-4820-b678-28897364803f",
   "metadata": {
    "jp-MarkdownHeadingCollapsed": true
   },
   "source": [
    "# Cas pratique basique - nettoyage et analyse avec pandas et visualisation avec matplotlib"
   ]
  },
  {
   "cell_type": "markdown",
   "id": "d3246fbb-e30b-47af-b7de-b2177716e891",
   "metadata": {},
   "source": [
    "[Documentation des objets `dataframe` dans pandas](https://pandas.pydata.org/pandas-docs/stable/reference/frame.html)\n",
    "\n",
    "Ce tutoriel français vous présente les fonctions d'analyses les plus simples et les plus importantes en faisant l'analyse d'un dataset très célèbre: le Dataset des Passagers du Titanic.\n",
    "\n",
    "[Projet proposé par Machine Learnia](https://www.youtube.com/watch?v=zZkNOdBWgFQ)\n",
    "\n",
    "- `data.shape` # La taille de notre dataframe\n",
    "\n",
    "- `print(data.columns)` # Renvoi la liste des nom de colonne\n",
    "\n",
    "- `data.head()` # Voir seulement les première ligne pour s'assurer que son dataframe est bien chargé et dans le bon format.\n",
    "\n",
    "- `data.drop()` : Permet de spécifier un élément (par exemple une colonne) que l'on souhaite retirer de notre df.\n",
    "\n",
    "- `data.dropna()` : permet de retirer un ensemble d'élément si un de ces élément sont manquants. Pour plus d'informations sur la façon dont pandas caractérise les éléments manquant et comment travaillé avec ces inconnus.\n",
    "\n",
    "- `data.groupby([\"column\"])` : Permet d'analyser en fonction d'un groupe\n",
    "\n",
    "\n",
    "> Pour les fonctions qui modifient un dataframe (comme `drop()`, `dropna()` etc.), on peut spécifier un paramètre `inplace = true` pour éviter de devoir réassigner le résultat de l'opération dans notre variable `data`."
   ]
  },
  {
   "cell_type": "code",
   "execution_count": 3,
   "id": "c5981d7c",
   "metadata": {},
   "outputs": [],
   "source": [
    "import pandas as pd\n",
    "import matplotlib\n",
    "\n",
    "\n",
    "data = pd.read_excel(\"source_entrainement_fichier/titanic.xls\")"
   ]
  },
  {
   "cell_type": "code",
   "execution_count": 4,
   "id": "38280c71-5868-4107-90c3-3e3a708815c2",
   "metadata": {
    "scrolled": true
   },
   "outputs": [
    {
     "name": "stdout",
     "output_type": "stream",
     "text": [
      "Index(['pclass', 'survived', 'name', 'sex', 'age', 'sibsp', 'parch', 'ticket',\n",
      "       'fare', 'cabin', 'embarked', 'boat', 'body', 'home.dest'],\n",
      "      dtype='object')\n"
     ]
    },
    {
     "data": {
      "text/html": [
       "<div>\n",
       "<style scoped>\n",
       "    .dataframe tbody tr th:only-of-type {\n",
       "        vertical-align: middle;\n",
       "    }\n",
       "\n",
       "    .dataframe tbody tr th {\n",
       "        vertical-align: top;\n",
       "    }\n",
       "\n",
       "    .dataframe thead th {\n",
       "        text-align: right;\n",
       "    }\n",
       "</style>\n",
       "<table border=\"1\" class=\"dataframe\">\n",
       "  <thead>\n",
       "    <tr style=\"text-align: right;\">\n",
       "      <th></th>\n",
       "      <th>pclass</th>\n",
       "      <th>survived</th>\n",
       "      <th>name</th>\n",
       "      <th>sex</th>\n",
       "      <th>age</th>\n",
       "      <th>sibsp</th>\n",
       "      <th>parch</th>\n",
       "      <th>ticket</th>\n",
       "      <th>fare</th>\n",
       "      <th>cabin</th>\n",
       "      <th>embarked</th>\n",
       "      <th>boat</th>\n",
       "      <th>body</th>\n",
       "      <th>home.dest</th>\n",
       "    </tr>\n",
       "  </thead>\n",
       "  <tbody>\n",
       "    <tr>\n",
       "      <th>0</th>\n",
       "      <td>1</td>\n",
       "      <td>1</td>\n",
       "      <td>Allen, Miss. Elisabeth Walton</td>\n",
       "      <td>female</td>\n",
       "      <td>29.0000</td>\n",
       "      <td>0</td>\n",
       "      <td>0</td>\n",
       "      <td>24160</td>\n",
       "      <td>211.3375</td>\n",
       "      <td>B5</td>\n",
       "      <td>S</td>\n",
       "      <td>2</td>\n",
       "      <td>NaN</td>\n",
       "      <td>St Louis, MO</td>\n",
       "    </tr>\n",
       "    <tr>\n",
       "      <th>1</th>\n",
       "      <td>1</td>\n",
       "      <td>1</td>\n",
       "      <td>Allison, Master. Hudson Trevor</td>\n",
       "      <td>male</td>\n",
       "      <td>0.9167</td>\n",
       "      <td>1</td>\n",
       "      <td>2</td>\n",
       "      <td>113781</td>\n",
       "      <td>151.5500</td>\n",
       "      <td>C22 C26</td>\n",
       "      <td>S</td>\n",
       "      <td>11</td>\n",
       "      <td>NaN</td>\n",
       "      <td>Montreal, PQ / Chesterville, ON</td>\n",
       "    </tr>\n",
       "    <tr>\n",
       "      <th>2</th>\n",
       "      <td>1</td>\n",
       "      <td>0</td>\n",
       "      <td>Allison, Miss. Helen Loraine</td>\n",
       "      <td>female</td>\n",
       "      <td>2.0000</td>\n",
       "      <td>1</td>\n",
       "      <td>2</td>\n",
       "      <td>113781</td>\n",
       "      <td>151.5500</td>\n",
       "      <td>C22 C26</td>\n",
       "      <td>S</td>\n",
       "      <td>NaN</td>\n",
       "      <td>NaN</td>\n",
       "      <td>Montreal, PQ / Chesterville, ON</td>\n",
       "    </tr>\n",
       "    <tr>\n",
       "      <th>3</th>\n",
       "      <td>1</td>\n",
       "      <td>0</td>\n",
       "      <td>Allison, Mr. Hudson Joshua Creighton</td>\n",
       "      <td>male</td>\n",
       "      <td>30.0000</td>\n",
       "      <td>1</td>\n",
       "      <td>2</td>\n",
       "      <td>113781</td>\n",
       "      <td>151.5500</td>\n",
       "      <td>C22 C26</td>\n",
       "      <td>S</td>\n",
       "      <td>NaN</td>\n",
       "      <td>135.0</td>\n",
       "      <td>Montreal, PQ / Chesterville, ON</td>\n",
       "    </tr>\n",
       "    <tr>\n",
       "      <th>4</th>\n",
       "      <td>1</td>\n",
       "      <td>0</td>\n",
       "      <td>Allison, Mrs. Hudson J C (Bessie Waldo Daniels)</td>\n",
       "      <td>female</td>\n",
       "      <td>25.0000</td>\n",
       "      <td>1</td>\n",
       "      <td>2</td>\n",
       "      <td>113781</td>\n",
       "      <td>151.5500</td>\n",
       "      <td>C22 C26</td>\n",
       "      <td>S</td>\n",
       "      <td>NaN</td>\n",
       "      <td>NaN</td>\n",
       "      <td>Montreal, PQ / Chesterville, ON</td>\n",
       "    </tr>\n",
       "  </tbody>\n",
       "</table>\n",
       "</div>"
      ],
      "text/plain": [
       "   pclass  survived                                             name     sex  \\\n",
       "0       1         1                    Allen, Miss. Elisabeth Walton  female   \n",
       "1       1         1                   Allison, Master. Hudson Trevor    male   \n",
       "2       1         0                     Allison, Miss. Helen Loraine  female   \n",
       "3       1         0             Allison, Mr. Hudson Joshua Creighton    male   \n",
       "4       1         0  Allison, Mrs. Hudson J C (Bessie Waldo Daniels)  female   \n",
       "\n",
       "       age  sibsp  parch  ticket      fare    cabin embarked boat   body  \\\n",
       "0  29.0000      0      0   24160  211.3375       B5        S    2    NaN   \n",
       "1   0.9167      1      2  113781  151.5500  C22 C26        S   11    NaN   \n",
       "2   2.0000      1      2  113781  151.5500  C22 C26        S  NaN    NaN   \n",
       "3  30.0000      1      2  113781  151.5500  C22 C26        S  NaN  135.0   \n",
       "4  25.0000      1      2  113781  151.5500  C22 C26        S  NaN    NaN   \n",
       "\n",
       "                         home.dest  \n",
       "0                     St Louis, MO  \n",
       "1  Montreal, PQ / Chesterville, ON  \n",
       "2  Montreal, PQ / Chesterville, ON  \n",
       "3  Montreal, PQ / Chesterville, ON  \n",
       "4  Montreal, PQ / Chesterville, ON  "
      ]
     },
     "execution_count": 4,
     "metadata": {},
     "output_type": "execute_result"
    }
   ],
   "source": [
    "data.shape # La taille de notre dataframe\n",
    "print(data.columns) # Renvoi la liste des nom de colonne\n",
    "data.head() # Voir seulement les première ligne pour s'assurer que son dataframe est bien chargé et dans le bon format."
   ]
  },
  {
   "cell_type": "code",
   "execution_count": 5,
   "id": "13d7d0ff-ae05-4d0b-978e-5ba4dea4b005",
   "metadata": {},
   "outputs": [
    {
     "data": {
      "text/html": [
       "<div>\n",
       "<style scoped>\n",
       "    .dataframe tbody tr th:only-of-type {\n",
       "        vertical-align: middle;\n",
       "    }\n",
       "\n",
       "    .dataframe tbody tr th {\n",
       "        vertical-align: top;\n",
       "    }\n",
       "\n",
       "    .dataframe thead th {\n",
       "        text-align: right;\n",
       "    }\n",
       "</style>\n",
       "<table border=\"1\" class=\"dataframe\">\n",
       "  <thead>\n",
       "    <tr style=\"text-align: right;\">\n",
       "      <th></th>\n",
       "      <th>pclass</th>\n",
       "      <th>survived</th>\n",
       "      <th>sex</th>\n",
       "      <th>age</th>\n",
       "    </tr>\n",
       "  </thead>\n",
       "  <tbody>\n",
       "    <tr>\n",
       "      <th>0</th>\n",
       "      <td>1</td>\n",
       "      <td>1</td>\n",
       "      <td>female</td>\n",
       "      <td>29.0000</td>\n",
       "    </tr>\n",
       "    <tr>\n",
       "      <th>1</th>\n",
       "      <td>1</td>\n",
       "      <td>1</td>\n",
       "      <td>male</td>\n",
       "      <td>0.9167</td>\n",
       "    </tr>\n",
       "    <tr>\n",
       "      <th>2</th>\n",
       "      <td>1</td>\n",
       "      <td>0</td>\n",
       "      <td>female</td>\n",
       "      <td>2.0000</td>\n",
       "    </tr>\n",
       "    <tr>\n",
       "      <th>3</th>\n",
       "      <td>1</td>\n",
       "      <td>0</td>\n",
       "      <td>male</td>\n",
       "      <td>30.0000</td>\n",
       "    </tr>\n",
       "    <tr>\n",
       "      <th>4</th>\n",
       "      <td>1</td>\n",
       "      <td>0</td>\n",
       "      <td>female</td>\n",
       "      <td>25.0000</td>\n",
       "    </tr>\n",
       "  </tbody>\n",
       "</table>\n",
       "</div>"
      ],
      "text/plain": [
       "   pclass  survived     sex      age\n",
       "0       1         1  female  29.0000\n",
       "1       1         1    male   0.9167\n",
       "2       1         0  female   2.0000\n",
       "3       1         0    male  30.0000\n",
       "4       1         0  female  25.0000"
      ]
     },
     "execution_count": 5,
     "metadata": {},
     "output_type": "execute_result"
    }
   ],
   "source": [
    "data = data.drop([\"sibsp\", \"ticket\", \"name\", \"parch\",\"fare\",\"cabin\",\"embarked\",\"boat\",\"body\",\"home.dest\"], axis=1) \n",
    "\n",
    "data.head()"
   ]
  },
  {
   "cell_type": "markdown",
   "id": "3b1754b7-6975-4251-abc8-7b9b6c791e6d",
   "metadata": {},
   "source": [
    "Si l'on regarde la ligne `count`, on peut remarquer que la valeur n'est pas la même dans toutes les colonnes. Cela veut dire que nous n'avons pas l'age de certains des passagers de notre df. A partir de là, deux solutions s'offre à nous:\n",
    "1. Remplacer les données manquantes par une valeur (aléatoire, moyenne ou autre) et donc changer la réalité -> `.fillna()`\n",
    "2. Retirer complètement les passagers dont l'age n'est pas connu, et donc conservé la réalité mais sacrifier une partie de nos données `.dropna()`\n",
    "\n",
    "\n"
   ]
  },
  {
   "cell_type": "code",
   "execution_count": 6,
   "id": "8840d179-0dd0-4153-b125-ef154f63adb7",
   "metadata": {},
   "outputs": [],
   "source": [
    "data = data.dropna(axis=0)"
   ]
  },
  {
   "cell_type": "code",
   "execution_count": 7,
   "id": "45e7a36b-8971-4675-a72a-901401cfd11b",
   "metadata": {},
   "outputs": [
    {
     "data": {
      "text/html": [
       "<div>\n",
       "<style scoped>\n",
       "    .dataframe tbody tr th:only-of-type {\n",
       "        vertical-align: middle;\n",
       "    }\n",
       "\n",
       "    .dataframe tbody tr th {\n",
       "        vertical-align: top;\n",
       "    }\n",
       "\n",
       "    .dataframe thead th {\n",
       "        text-align: right;\n",
       "    }\n",
       "</style>\n",
       "<table border=\"1\" class=\"dataframe\">\n",
       "  <thead>\n",
       "    <tr style=\"text-align: right;\">\n",
       "      <th></th>\n",
       "      <th>pclass</th>\n",
       "      <th>survived</th>\n",
       "      <th>age</th>\n",
       "    </tr>\n",
       "  </thead>\n",
       "  <tbody>\n",
       "    <tr>\n",
       "      <th>count</th>\n",
       "      <td>1046.000000</td>\n",
       "      <td>1046.000000</td>\n",
       "      <td>1046.000000</td>\n",
       "    </tr>\n",
       "    <tr>\n",
       "      <th>mean</th>\n",
       "      <td>2.207457</td>\n",
       "      <td>0.408222</td>\n",
       "      <td>29.881135</td>\n",
       "    </tr>\n",
       "    <tr>\n",
       "      <th>std</th>\n",
       "      <td>0.841497</td>\n",
       "      <td>0.491740</td>\n",
       "      <td>14.413500</td>\n",
       "    </tr>\n",
       "    <tr>\n",
       "      <th>min</th>\n",
       "      <td>1.000000</td>\n",
       "      <td>0.000000</td>\n",
       "      <td>0.166700</td>\n",
       "    </tr>\n",
       "    <tr>\n",
       "      <th>25%</th>\n",
       "      <td>1.000000</td>\n",
       "      <td>0.000000</td>\n",
       "      <td>21.000000</td>\n",
       "    </tr>\n",
       "    <tr>\n",
       "      <th>50%</th>\n",
       "      <td>2.000000</td>\n",
       "      <td>0.000000</td>\n",
       "      <td>28.000000</td>\n",
       "    </tr>\n",
       "    <tr>\n",
       "      <th>75%</th>\n",
       "      <td>3.000000</td>\n",
       "      <td>1.000000</td>\n",
       "      <td>39.000000</td>\n",
       "    </tr>\n",
       "    <tr>\n",
       "      <th>max</th>\n",
       "      <td>3.000000</td>\n",
       "      <td>1.000000</td>\n",
       "      <td>80.000000</td>\n",
       "    </tr>\n",
       "  </tbody>\n",
       "</table>\n",
       "</div>"
      ],
      "text/plain": [
       "            pclass     survived          age\n",
       "count  1046.000000  1046.000000  1046.000000\n",
       "mean      2.207457     0.408222    29.881135\n",
       "std       0.841497     0.491740    14.413500\n",
       "min       1.000000     0.000000     0.166700\n",
       "25%       1.000000     0.000000    21.000000\n",
       "50%       2.000000     0.000000    28.000000\n",
       "75%       3.000000     1.000000    39.000000\n",
       "max       3.000000     1.000000    80.000000"
      ]
     },
     "execution_count": 7,
     "metadata": {},
     "output_type": "execute_result"
    }
   ],
   "source": [
    "data.describe()"
   ]
  },
  {
   "cell_type": "markdown",
   "id": "418eb031-3ef4-4e8e-9f2e-e861e02a87cc",
   "metadata": {},
   "source": [
    "> On peut constater que notre df est passé de 1309 lignes à 1046 lignes, les lignes contenants des valeurs manquantes ont bien été retirées."
   ]
  },
  {
   "cell_type": "markdown",
   "id": "8193c168-24a8-493c-92ae-d86f3810cd07",
   "metadata": {},
   "source": [
    "Pour savoir, parmis l'ensemble des passagers sélectionnés dans le dataframe, le nombre de personne dans chaque classe, on peut utiliser la fonction `.value_counts()`"
   ]
  },
  {
   "cell_type": "code",
   "execution_count": 8,
   "id": "96cefbc8-6765-4dd5-898e-c17e99ec7462",
   "metadata": {},
   "outputs": [
    {
     "data": {
      "text/plain": [
       "pclass\n",
       "3    501\n",
       "1    284\n",
       "2    261\n",
       "Name: count, dtype: int64"
      ]
     },
     "execution_count": 8,
     "metadata": {},
     "output_type": "execute_result"
    }
   ],
   "source": [
    "data[\"pclass\"].value_counts()"
   ]
  },
  {
   "cell_type": "code",
   "execution_count": 14,
   "id": "1c1c9d86-b8df-4889-b651-caa2ac6c3c26",
   "metadata": {},
   "outputs": [
    {
     "data": {
      "text/plain": [
       "<Axes: xlabel='pclass'>"
      ]
     },
     "execution_count": 14,
     "metadata": {},
     "output_type": "execute_result"
    },
    {
     "data": {
      "image/png": "[encoded data removed]",
      "text/plain": [
       "<Figure size 640x480 with 1 Axes>"
      ]
     },
     "metadata": {},
     "output_type": "display_data"
    }
   ],
   "source": [
    "data[\"pclass\"].value_counts().plot.bar()"
   ]
  },
  {
   "cell_type": "markdown",
   "id": "bd56a1de-ee01-4772-b626-ca249debc460",
   "metadata": {},
   "source": [
    "La méthode `groupby` sert à regrouper les données en fonction d'une ou plusieurs clés et à effectuer des opérations de calcul sur ces groupes. C'est un outil puissant pour la segmentation de données et l'exécution de fonctions comme la somme, la moyenne, le maximum, le minimum etc.\n",
    "\n",
    "Dans l'exemple di-dessous, je souhaite regrouper les données de `sex` et `age` "
   ]
  },
  {
   "cell_type": "code",
   "execution_count": 10,
   "id": "3718fa81-0afb-4797-88c6-bf3429d98dcf",
   "metadata": {},
   "outputs": [
    {
     "data": {
      "text/html": [
       "<div>\n",
       "<style scoped>\n",
       "    .dataframe tbody tr th:only-of-type {\n",
       "        vertical-align: middle;\n",
       "    }\n",
       "\n",
       "    .dataframe tbody tr th {\n",
       "        vertical-align: top;\n",
       "    }\n",
       "\n",
       "    .dataframe thead th {\n",
       "        text-align: right;\n",
       "    }\n",
       "</style>\n",
       "<table border=\"1\" class=\"dataframe\">\n",
       "  <thead>\n",
       "    <tr style=\"text-align: right;\">\n",
       "      <th></th>\n",
       "      <th>pclass</th>\n",
       "      <th>survived</th>\n",
       "      <th>age</th>\n",
       "    </tr>\n",
       "    <tr>\n",
       "      <th>sex</th>\n",
       "      <th></th>\n",
       "      <th></th>\n",
       "      <th></th>\n",
       "    </tr>\n",
       "  </thead>\n",
       "  <tbody>\n",
       "    <tr>\n",
       "      <th>female</th>\n",
       "      <td>2.048969</td>\n",
       "      <td>0.752577</td>\n",
       "      <td>28.687071</td>\n",
       "    </tr>\n",
       "    <tr>\n",
       "      <th>male</th>\n",
       "      <td>2.300912</td>\n",
       "      <td>0.205167</td>\n",
       "      <td>30.585233</td>\n",
       "    </tr>\n",
       "  </tbody>\n",
       "</table>\n",
       "</div>"
      ],
      "text/plain": [
       "          pclass  survived        age\n",
       "sex                                  \n",
       "female  2.048969  0.752577  28.687071\n",
       "male    2.300912  0.205167  30.585233"
      ]
     },
     "execution_count": 10,
     "metadata": {},
     "output_type": "execute_result"
    }
   ],
   "source": [
    "data.groupby([\"sex\"]).mean() #pour chaque valeur de `sex`, calculer la moyenne d'âge."
   ]
  },
  {
   "cell_type": "code",
   "execution_count": 11,
   "id": "ecd55981-db84-418b-993f-1e59af67b716",
   "metadata": {
    "scrolled": true
   },
   "outputs": [
    {
     "data": {
      "text/html": [
       "<div>\n",
       "<style scoped>\n",
       "    .dataframe tbody tr th:only-of-type {\n",
       "        vertical-align: middle;\n",
       "    }\n",
       "\n",
       "    .dataframe tbody tr th {\n",
       "        vertical-align: top;\n",
       "    }\n",
       "\n",
       "    .dataframe thead th {\n",
       "        text-align: right;\n",
       "    }\n",
       "</style>\n",
       "<table border=\"1\" class=\"dataframe\">\n",
       "  <thead>\n",
       "    <tr style=\"text-align: right;\">\n",
       "      <th></th>\n",
       "      <th></th>\n",
       "      <th>survived</th>\n",
       "      <th>age</th>\n",
       "    </tr>\n",
       "    <tr>\n",
       "      <th>sex</th>\n",
       "      <th>pclass</th>\n",
       "      <th></th>\n",
       "      <th></th>\n",
       "    </tr>\n",
       "  </thead>\n",
       "  <tbody>\n",
       "    <tr>\n",
       "      <th rowspan=\"3\" valign=\"top\">female</th>\n",
       "      <th>1</th>\n",
       "      <td>0.962406</td>\n",
       "      <td>37.037594</td>\n",
       "    </tr>\n",
       "    <tr>\n",
       "      <th>2</th>\n",
       "      <td>0.893204</td>\n",
       "      <td>27.499191</td>\n",
       "    </tr>\n",
       "    <tr>\n",
       "      <th>3</th>\n",
       "      <td>0.473684</td>\n",
       "      <td>22.185307</td>\n",
       "    </tr>\n",
       "    <tr>\n",
       "      <th rowspan=\"3\" valign=\"top\">male</th>\n",
       "      <th>1</th>\n",
       "      <td>0.350993</td>\n",
       "      <td>41.029250</td>\n",
       "    </tr>\n",
       "    <tr>\n",
       "      <th>2</th>\n",
       "      <td>0.145570</td>\n",
       "      <td>30.815401</td>\n",
       "    </tr>\n",
       "    <tr>\n",
       "      <th>3</th>\n",
       "      <td>0.169054</td>\n",
       "      <td>25.962273</td>\n",
       "    </tr>\n",
       "  </tbody>\n",
       "</table>\n",
       "</div>"
      ],
      "text/plain": [
       "               survived        age\n",
       "sex    pclass                     \n",
       "female 1       0.962406  37.037594\n",
       "       2       0.893204  27.499191\n",
       "       3       0.473684  22.185307\n",
       "male   1       0.350993  41.029250\n",
       "       2       0.145570  30.815401\n",
       "       3       0.169054  25.962273"
      ]
     },
     "execution_count": 11,
     "metadata": {},
     "output_type": "execute_result"
    }
   ],
   "source": [
    "data.groupby([\"sex\", \"pclass\"]).mean() #pour chaque valeur de `sex` et de `pclass`, calculer la moyenne d'âge"
   ]
  },
  {
   "cell_type": "markdown",
   "id": "b3560d47",
   "metadata": {},
   "source": [
    "# Les modules"
   ]
  },
  {
   "cell_type": "markdown",
   "id": "af690cc1-315c-47a7-a165-c9d0dccaeff4",
   "metadata": {},
   "source": [
    "Les modules sont des programmes Python qui contiennent des fonctions que l'on est amené à réutiliser souvent (on les appelle aussi bibliothèques ou libraries).\n",
    "\n",
    "[Liste des modules intégrés à Python](https://docs.python.org/fr/3/py-modindex.html)\n",
    "\n",
    "[Liste des modules couramment utilisés dans ML avec Python](https://intelligence-artificielle.com/top-bibliotheque-python-ia-machine-learning/)\n",
    "\n",
    "- 1 : Pour importer un module, on utilise l'instruction `import` suivi du nom du module.\n",
    "- 2 : Si on a besoin que de quelques-unes des fonctions présentes dans le module (ce qui est souvent le cas), on peut importer seulement ces fonctions de notre module.\n",
    "- 3 : On peut également créer un alias. Dans l'exemple ci-dessous, on utilise le mot clé `as` pour spécifié un alias; On peut ensuite utiliser cet alias comme si c'était le module de base."
   ]
  },
  {
   "cell_type": "code",
   "execution_count": 9,
   "id": "7c15a82a",
   "metadata": {},
   "outputs": [
    {
     "name": "stdout",
     "output_type": "stream",
     "text": [
      "9\n",
      "8\n"
     ]
    }
   ],
   "source": [
    "############## 1 ###################\n",
    "import random\n",
    "\n",
    "############## 2 ###################\n",
    "\n",
    "from random import randint #2\n",
    "\n",
    "############## 3 ###################\n",
    "from random import randint as rint #3\n",
    "\n",
    "print(randint(0, 20))\n",
    "print(rint(0, 20))"
   ]
  },
  {
   "cell_type": "markdown",
   "id": "27f21249-71ea-4543-9f9b-853db523f17d",
   "metadata": {},
   "source": [
    "# PYTHON BUILT-IN FUNCTIONS"
   ]
  },
  {
   "cell_type": "markdown",
   "id": "e03d98f1-ea48-4b00-b1f7-51f4e91076ac",
   "metadata": {},
   "source": [
    "## Fonctions de base\n",
    "- `abs()` : retourne la valeur absolue d'un nombre | [Documentation](https://docs.python.org/3/library/functions.html#abs)\n",
    "- `round()` : Arrondir une décimal  | [Documentation](https://docs.python.org/3/library/functions.html#round)\n",
    "- `max()` : Retourne le maximum d'un itérable [Documentation](https://docs.python.org/3/library/functions.html#max)\n",
    "- `min()` : Retourne le minimum d'un itérable [Documentation](https://docs.python.org/3/library/functions.html#min)\n",
    "- `len()` : Retourne la taille d'un itérable [Documentation](https://docs.python.org/3/library/functions.html#len)\n",
    "- `sum()` : Retourne la somme des valeurs dans un itérable [Documentation](https://docs.python.org/3/library/functions.html#sum)\n",
    "- `any()` : Retourne `True` si au moins un élément est `True`[Documentation](https://docs.python.org/3/library/functions.html#any)\n",
    "- `all()` : Retourne `True` si tous les éléments sont `True` [Documentation](https://docs.python.org/3/library/functions.html#all)"
   ]
  },
  {
   "cell_type": "code",
   "execution_count": 36,
   "id": "42ab2917-ffc9-45fb-908f-e416fccd2870",
   "metadata": {},
   "outputs": [
    {
     "data": {
      "text/plain": [
       "3"
      ]
     },
     "execution_count": 36,
     "metadata": {},
     "output_type": "execute_result"
    }
   ],
   "source": [
    "x = -3\n",
    "abs(x)"
   ]
  },
  {
   "cell_type": "code",
   "execution_count": 37,
   "id": "79191be1-bcd4-4123-8993-bc004bd9db15",
   "metadata": {},
   "outputs": [
    {
     "data": {
      "text/plain": [
       "3"
      ]
     },
     "execution_count": 37,
     "metadata": {},
     "output_type": "execute_result"
    }
   ],
   "source": [
    "y = 3.14\n",
    "round(y)"
   ]
  },
  {
   "cell_type": "code",
   "execution_count": 3,
   "id": "15ec3bc8-e155-49a3-8ff4-31ce6973ec39",
   "metadata": {},
   "outputs": [
    {
     "data": {
      "text/plain": [
       "988364"
      ]
     },
     "execution_count": 3,
     "metadata": {},
     "output_type": "execute_result"
    }
   ],
   "source": [
    "liste_1 = [746, 639, 6374, 988364, 637]\n",
    "\n",
    "max(liste_1)"
   ]
  },
  {
   "cell_type": "code",
   "execution_count": 39,
   "id": "fddf9176-01d8-4a01-9392-b6ee9a230c09",
   "metadata": {},
   "outputs": [
    {
     "data": {
      "text/plain": [
       "637"
      ]
     },
     "execution_count": 39,
     "metadata": {},
     "output_type": "execute_result"
    }
   ],
   "source": [
    "min(liste_1)"
   ]
  },
  {
   "cell_type": "code",
   "execution_count": 34,
   "id": "56e08db1-47eb-4343-aeb3-2da981b17dbb",
   "metadata": {},
   "outputs": [
    {
     "data": {
      "text/plain": [
       "5"
      ]
     },
     "execution_count": 34,
     "metadata": {},
     "output_type": "execute_result"
    }
   ],
   "source": [
    "len(liste_1)"
   ]
  },
  {
   "cell_type": "code",
   "execution_count": 35,
   "id": "cfd38f1a-a4b3-41f6-9575-ec2a3768e403",
   "metadata": {},
   "outputs": [
    {
     "data": {
      "text/plain": [
       "996760"
      ]
     },
     "execution_count": 35,
     "metadata": {},
     "output_type": "execute_result"
    }
   ],
   "source": [
    "sum(liste_1)"
   ]
  },
  {
   "cell_type": "code",
   "execution_count": 40,
   "id": "bd3b5c9a-282d-40d0-9b4d-e8559ebd6d81",
   "metadata": {},
   "outputs": [
    {
     "data": {
      "text/plain": [
       "True"
      ]
     },
     "execution_count": 40,
     "metadata": {},
     "output_type": "execute_result"
    }
   ],
   "source": [
    "any(liste_1)"
   ]
  },
  {
   "cell_type": "code",
   "execution_count": 4,
   "id": "ca3a8fc1-d212-4e12-8e59-47c056967f26",
   "metadata": {},
   "outputs": [
    {
     "data": {
      "text/plain": [
       "True"
      ]
     },
     "execution_count": 4,
     "metadata": {},
     "output_type": "execute_result"
    }
   ],
   "source": [
    "all(liste_1)"
   ]
  },
  {
   "cell_type": "code",
   "execution_count": 42,
   "id": "5840569c-1a94-45e2-8cd5-26dc02e6a9ef",
   "metadata": {},
   "outputs": [
    {
     "data": {
      "text/plain": [
       "[4, 9, 25, 16, 36]"
      ]
     },
     "execution_count": 42,
     "metadata": {},
     "output_type": "execute_result"
    }
   ],
   "source": [
    "a = [i**2 for i in [2,3,5,4,6]]\n",
    "\n",
    "a"
   ]
  }
 ],
 "metadata": {
  "kernelspec": {
   "display_name": "Python 3 (ipykernel)",
   "language": "python",
   "name": "python3"
  },
  "language_info": {
   "codemirror_mode": {
    "name": "ipython",
    "version": 3
   },
   "file_extension": ".py",
   "mimetype": "text/x-python",
   "name": "python",
   "nbconvert_exporter": "python",
   "pygments_lexer": "ipython3",
   "version": "3.11.5"
  }
 },
 "nbformat": 4,
 "nbformat_minor": 5
}
