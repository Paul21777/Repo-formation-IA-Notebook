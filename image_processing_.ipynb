{
 "cells": [
  {
   "cell_type": "markdown",
   "metadata": {},
   "source": [
    "# Traitement d'images : filtrage, seuillage, et comptage d'objets avec opencv\n",
    "\n",
    "Une initiation à la biblithèque opencv "
   ]
  },
  {
   "cell_type": "markdown",
   "metadata": {},
   "source": [
    "# Veille technologique: Opencv python\n",
    "\n",
    "-  Suivre les instructions et faire une recherche selon ce qui est demandé."
   ]
  },
  {
   "cell_type": "markdown",
   "metadata": {},
   "source": [
    "## Operations Simples"
   ]
  },
  {
   "cell_type": "code",
   "execution_count": 1,
   "metadata": {},
   "outputs": [
    {
     "data": {
      "text/plain": [
       "32"
      ]
     },
     "execution_count": 1,
     "metadata": {},
     "output_type": "execute_result"
    }
   ],
   "source": [
    "# use opencv to load and display the image\n",
    "import cv2 as cv\n",
    "import matplotlib.pyplot as plt\n",
    "import numpy as np\n",
    "\n",
    "# lire l'image (avec imread)\n",
    "image = cv.imread(\"image_01.png\")\n",
    "# afficher image\n",
    "cv.imshow(\"image\", image)\n",
    "cv.waitKey(0)"
   ]
  },
  {
   "cell_type": "code",
   "execution_count": 2,
   "metadata": {},
   "outputs": [
    {
     "data": {
      "text/plain": [
       "(760, 541, 3)"
      ]
     },
     "execution_count": 2,
     "metadata": {},
     "output_type": "execute_result"
    }
   ],
   "source": [
    "# afficher la taille de l'image\n",
    "image.shape"
   ]
  },
  {
   "cell_type": "code",
   "execution_count": 3,
   "metadata": {},
   "outputs": [
    {
     "data": {
      "text/plain": [
       "array([102, 204, 153], dtype=uint8)"
      ]
     },
     "execution_count": 3,
     "metadata": {},
     "output_type": "execute_result"
    }
   ],
   "source": [
    "# l'image a trois couleur R,G,B. afficher les valeurs des trois couleurs pour le pixel x = 150, et y = 100\n",
    "image[150, 100]"
   ]
  },
  {
   "cell_type": "code",
   "execution_count": 4,
   "metadata": {},
   "outputs": [
    {
     "data": {
      "text/plain": [
       "32"
      ]
     },
     "execution_count": 4,
     "metadata": {},
     "output_type": "execute_result"
    }
   ],
   "source": [
    "# Crop une partie de l'image (sélectionner une petite partie à partir des coordonnées)\n",
    "cropped = image[50:650, 200:400]\n",
    "cv.imshow(\"cropped image\", cropped)\n",
    "cv.waitKey(0)"
   ]
  },
  {
   "cell_type": "code",
   "execution_count": 5,
   "metadata": {},
   "outputs": [
    {
     "data": {
      "text/plain": [
       "32"
      ]
     },
     "execution_count": 5,
     "metadata": {},
     "output_type": "execute_result"
    }
   ],
   "source": [
    "# redimensioner l'image à 200x200 pixels\n",
    "resized = cv.resize(image, [200, 200])\n",
    "# afficher resized\n",
    "cv.imshow(\"image\", resized)\n",
    "cv.waitKey(0)\n",
    "# qu'est ce que vous remarquez !!\n"
   ]
  },
  {
   "cell_type": "code",
   "execution_count": 6,
   "metadata": {},
   "outputs": [
    {
     "data": {
      "text/plain": [
       "32"
      ]
     },
     "execution_count": 6,
     "metadata": {},
     "output_type": "execute_result"
    }
   ],
   "source": [
    "# redimensinner sans affecter l'image\n",
    "scale_down = 0.5\n",
    "resized_2 = cv.resize(image, None, fx=scale_down, fy=scale_down)\n",
    "cv.imshow(\"image\", resized_2)\n",
    "cv.waitKey(0)"
   ]
  },
  {
   "cell_type": "markdown",
   "metadata": {},
   "source": [
    "# Réaliser une rotation sur l'image"
   ]
  },
  {
   "cell_type": "code",
   "execution_count": 7,
   "metadata": {},
   "outputs": [],
   "source": [
    "# dividing height and width by 2 to get the center of the image\n",
    "height, width = image.shape[:2]\n",
    "# get the center coordinates of the image to create the 2D rotation matrix\n",
    "center = (width/2, height/2)"
   ]
  },
  {
   "cell_type": "code",
   "execution_count": 8,
   "metadata": {},
   "outputs": [
    {
     "data": {
      "text/plain": [
       "32"
      ]
     },
     "execution_count": 8,
     "metadata": {},
     "output_type": "execute_result"
    }
   ],
   "source": [
    "# faire tourner une image -45°\n",
    "import imutils\n",
    "rotated = imutils.rotate(image, -45)\n",
    "cv.imshow(\"image\", rotated)\n",
    "cv.waitKey(0)"
   ]
  },
  {
   "cell_type": "markdown",
   "metadata": {},
   "source": [
    "Vous pouvez utiliser la bibliothèque imutils pour faire les rotations et d'autres fonctions facilement. Pour l'instaler: pip install imutils"
   ]
  },
  {
   "cell_type": "markdown",
   "metadata": {},
   "source": [
    "# Dessiner sur l'image"
   ]
  },
  {
   "cell_type": "code",
   "execution_count": 9,
   "metadata": {},
   "outputs": [
    {
     "data": {
      "text/plain": [
       "32"
      ]
     },
     "execution_count": 9,
     "metadata": {},
     "output_type": "execute_result"
    }
   ],
   "source": [
    "# dessiner un rectangle\n",
    "im_rect = cv.rectangle(image, [100, 200], [400, 100], [255, 255, 255])\n",
    "cv.imshow(\"image\", im_rect)\n",
    "cv.waitKey(0)"
   ]
  },
  {
   "cell_type": "code",
   "execution_count": 10,
   "metadata": {},
   "outputs": [
    {
     "data": {
      "text/plain": [
       "32"
      ]
     },
     "execution_count": 10,
     "metadata": {},
     "output_type": "execute_result"
    }
   ],
   "source": [
    "# dessiner un cercle\n",
    "im_rect = cv.circle(image, [100, 200], 45, [255, 255, 255])\n",
    "cv.imshow(\"image\", im_rect)\n",
    "cv.waitKey(0)"
   ]
  },
  {
   "cell_type": "markdown",
   "metadata": {},
   "source": [
    "# Filtrage d'image\n",
    "\n",
    "* Blur\n",
    "* Gaussian blur\n",
    "* Median blur\n",
    "* Sharpening\n",
    "* Bilateral blur\n",
    "* Bilateral filtering"
   ]
  },
  {
   "cell_type": "code",
   "execution_count": null,
   "metadata": {},
   "outputs": [],
   "source": []
  },
  {
   "cell_type": "code",
   "execution_count": 4,
   "metadata": {},
   "outputs": [
    {
     "data": {
      "text/plain": [
       "32"
      ]
     },
     "execution_count": 4,
     "metadata": {},
     "output_type": "execute_result"
    }
   ],
   "source": [
    "# charger et afficher l'image \"bois\"\n",
    "image_bois = cv.imread(\"bois.png\")\n",
    "cv.imshow(\"bois\", image_bois)\n",
    "cv.waitKey(0)"
   ]
  },
  {
   "cell_type": "code",
   "execution_count": 5,
   "metadata": {},
   "outputs": [
    {
     "data": {
      "text/plain": [
       "32"
      ]
     },
     "execution_count": 5,
     "metadata": {},
     "output_type": "execute_result"
    }
   ],
   "source": [
    "# Appliquer blur avec un kernel de taille 5x5\n",
    "\n",
    "blur = cv.blur(image_bois, [5, 5])\n",
    "cv.imshow(\"Blurred image\", blur)\n",
    "cv.waitKey(0)"
   ]
  },
  {
   "cell_type": "code",
   "execution_count": 6,
   "metadata": {},
   "outputs": [
    {
     "data": {
      "text/plain": [
       "32"
      ]
     },
     "execution_count": 6,
     "metadata": {},
     "output_type": "execute_result"
    }
   ],
   "source": [
    "# gaussian blur\n",
    "gaussian_blur = cv.GaussianBlur(image_bois, [15, 15], 1.5) \n",
    "cv.imshow(\"Blurred image\", gaussian_blur)\n",
    "cv.waitKey(0)"
   ]
  },
  {
   "cell_type": "code",
   "execution_count": 39,
   "metadata": {},
   "outputs": [
    {
     "data": {
      "text/plain": [
       "32"
      ]
     },
     "execution_count": 39,
     "metadata": {},
     "output_type": "execute_result"
    },
    {
     "ename": "",
     "evalue": "",
     "output_type": "error",
     "traceback": [
      "\u001b[1;31mThe Kernel crashed while executing code in the current cell or a previous cell. \n",
      "\u001b[1;31mPlease review the code in the cell(s) to identify a possible cause of the failure. \n",
      "\u001b[1;31mClick <a href='https://aka.ms/vscodeJupyterKernelCrash'>here</a> for more info. \n",
      "\u001b[1;31mView Jupyter <a href='command:jupyter.viewOutput'>log</a> for further details."
     ]
    }
   ],
   "source": [
    "# median blur\n",
    "\n",
    "median_blur = cv.medianBlur(image_bois, 25) \n",
    "cv.imshow(\"Blurred image\", median_blur)\n",
    "cv.waitKey(0)"
   ]
  },
  {
   "cell_type": "code",
   "execution_count": 12,
   "metadata": {},
   "outputs": [
    {
     "data": {
      "text/plain": [
       "-1"
      ]
     },
     "execution_count": 12,
     "metadata": {},
     "output_type": "execute_result"
    }
   ],
   "source": [
    "# sharpening\n",
    "top_hat_kernel = np.array([[-1, -1, -1],\n",
    "                  [-1, 9, -1],\n",
    "                  [-1, -1, -1]])\n",
    "\n",
    "sharpened_bois = cv.filter2D(image_bois, 0, top_hat_kernel)\n",
    "cv.imshow(\"Sharpened image\", sharpened_bois)\n",
    "cv.waitKey(0)"
   ]
  },
  {
   "cell_type": "code",
   "execution_count": 14,
   "metadata": {},
   "outputs": [
    {
     "data": {
      "text/plain": [
       "-1"
      ]
     },
     "execution_count": 14,
     "metadata": {},
     "output_type": "execute_result"
    }
   ],
   "source": [
    "# bilateral filtering\n",
    "params = [(11, 21, 7), (11, 41, 21), (11, 61, 39)]\n",
    "# loop over the diameter, sigma color, and sigma space\n",
    "for (diameter, sigmaColor, sigmaSpace) in params:\n",
    "\t# apply bilateral filtering to the image using the current set of\n",
    "\t# parameters\n",
    "\tbilateral_filtering = cv.bilateralFilter(image_bois, diameter, sigmaColor, sigmaSpace)\n",
    "cv.imshow(\"Bilateral filtering\", bilateral_filtering)\n",
    "cv.waitKey(0)\n"
   ]
  },
  {
   "cell_type": "markdown",
   "metadata": {},
   "source": [
    "# Seuillage d'image\n",
    "\n",
    "En utilisant l'image \"sudoku\" appliquer:\n",
    "* Binary Thresholding\n",
    "* Otsu thresholding\n",
    "* Adaptive thresholding"
   ]
  },
  {
   "cell_type": "code",
   "execution_count": 9,
   "metadata": {},
   "outputs": [
    {
     "data": {
      "text/plain": [
       "-1"
      ]
     },
     "execution_count": 9,
     "metadata": {},
     "output_type": "execute_result"
    }
   ],
   "source": [
    "# appliquer un seuillage binaire d'un seuil de 127\n",
    "image_sudoku = cv.imread(\"sudoku.jpg\")\n",
    "ret, thresh_binary = cv.threshold(image_sudoku, 127, 255, cv.THRESH_BINARY)\n",
    "cv.imshow(\"Thresholding\", thresh_binary)\n",
    "cv.waitKey(0)"
   ]
  },
  {
   "cell_type": "code",
   "execution_count": 33,
   "metadata": {},
   "outputs": [
    {
     "data": {
      "text/plain": [
       "-1"
      ]
     },
     "execution_count": 33,
     "metadata": {},
     "output_type": "execute_result"
    }
   ],
   "source": [
    "# appliquer un seuillage binaire d'un seuil de 30\n",
    "ret, thresh_binary_2 = cv.threshold(image_sudoku, 30, 255, cv.THRESH_BINARY)\n",
    "\n",
    "cv.imshow(\"Thresholding\", thresh_binary_2)\n",
    "cv.waitKey(0)"
   ]
  },
  {
   "cell_type": "code",
   "execution_count": 34,
   "metadata": {},
   "outputs": [
    {
     "data": {
      "text/plain": [
       "32"
      ]
     },
     "execution_count": 34,
     "metadata": {},
     "output_type": "execute_result"
    }
   ],
   "source": [
    "# appliquer un seuillage binaire d'un seuil de 240\n",
    "ret, thresh_binary_2 = cv.threshold(image_sudoku, 240, 255, cv.THRESH_BINARY)\n",
    "\n",
    "cv.imshow(\"Thresholding\", thresh_binary_2)\n",
    "cv.waitKey(0)\n",
    "cv.MORPH_TOPHAT"
   ]
  },
  {
   "cell_type": "markdown",
   "metadata": {},
   "source": [
    "Qu'est ce que vous remarquez ?!"
   ]
  },
  {
   "cell_type": "code",
   "execution_count": 12,
   "metadata": {},
   "outputs": [
    {
     "data": {
      "text/plain": [
       "-1"
      ]
     },
     "execution_count": 12,
     "metadata": {},
     "output_type": "execute_result"
    }
   ],
   "source": [
    "# appliquer \"Otsu\" seuillage\n",
    "\n",
    "gray_image = cv.cvtColor(image_sudoku, cv.COLOR_BGR2GRAY)\n",
    "\n",
    "# Faire passer en greyscale avant d'appliquer le filtre\n",
    "ret, thresh_binary_3 = cv.threshold(gray_image, 0, 255, cv.THRESH_BINARY+cv.THRESH_OTSU)\n",
    "\n",
    "cv.imshow(\"Thresholding\", thresh_binary_3)\n",
    "cv.waitKey(0)"
   ]
  },
  {
   "cell_type": "code",
   "execution_count": 5,
   "metadata": {},
   "outputs": [
    {
     "data": {
      "text/plain": [
       "-1"
      ]
     },
     "execution_count": 5,
     "metadata": {},
     "output_type": "execute_result"
    }
   ],
   "source": [
    "ret, thresh_binary_2 = cv.threshold(image_sudoku, 0, 255, cv.MORPH_TOPHAT)\n",
    "\n",
    "cv.imshow(\"Thresholding\", thresh_binary_2)\n",
    "cv.waitKey(0)"
   ]
  },
  {
   "cell_type": "code",
   "execution_count": 5,
   "metadata": {},
   "outputs": [],
   "source": [
    "# appliquer \"Adaptive threshold\"\n",
    "image_sudoku = cv.imread('sudoku.jpg', cv.IMREAD_GRAYSCALE)\n",
    "\n",
    "image_adaptive_thr = cv.adaptiveThreshold(image_sudoku, 255, cv.ADAPTIVE_THRESH_GAUSSIAN_C, cv.THRESH_BINARY, 11, 7)\n",
    "\n",
    "cv.imshow(\"Thresholding\", image_adaptive_thr)\n",
    "cv.waitKey(0)"
   ]
  },
  {
   "cell_type": "markdown",
   "metadata": {},
   "source": [
    "# Détection des bords\n",
    "\n",
    "* Sobel\n",
    "* Canny"
   ]
  },
  {
   "cell_type": "code",
   "execution_count": null,
   "metadata": {},
   "outputs": [],
   "source": [
    "# utiliser la methode sobel pour détecter les bords\n",
    "# Vous pouvez utiliser d'autres images de votre choix\n",
    "\n"
   ]
  },
  {
   "cell_type": "code",
   "execution_count": null,
   "metadata": {},
   "outputs": [],
   "source": [
    "# Canny\n"
   ]
  },
  {
   "cell_type": "markdown",
   "metadata": {},
   "source": [
    "# Détection des contours"
   ]
  },
  {
   "cell_type": "code",
   "execution_count": null,
   "metadata": {},
   "outputs": [],
   "source": [
    "# charger l'image 02\n",
    "# faites une recherche sur internet pour détecter les contours des objets dans image_02\n",
    "\n"
   ]
  },
  {
   "cell_type": "markdown",
   "metadata": {},
   "source": [
    "#  Compter des objets"
   ]
  },
  {
   "cell_type": "code",
   "execution_count": null,
   "metadata": {},
   "outputs": [],
   "source": [
    "# Compter les objets\n"
   ]
  },
  {
   "cell_type": "markdown",
   "metadata": {},
   "source": [
    "# Challenge\n",
    "Compter le nombre d'objets dans l'image 03 avec le code précédent.\n",
    "- Qu'est ce que vous remarquez?\n",
    "- Utiliser l'algorithme Watershed pour detecter et séparer les objets connectés."
   ]
  },
  {
   "cell_type": "code",
   "execution_count": null,
   "metadata": {},
   "outputs": [],
   "source": [
    "#"
   ]
  },
  {
   "cell_type": "markdown",
   "metadata": {},
   "source": [
    "Bravo !"
   ]
  },
  {
   "cell_type": "markdown",
   "metadata": {},
   "source": []
  }
 ],
 "metadata": {
  "interpreter": {
   "hash": "2e29c752e75e91034d0c40602915a17cb0379d8f99d244b8deba46517b7d2192"
  },
  "kernelspec": {
   "display_name": "Python 3.6.13 64-bit ('fc': conda)",
   "language": "python",
   "name": "python3"
  },
  "language_info": {
   "codemirror_mode": {
    "name": "ipython",
    "version": 3
   },
   "file_extension": ".py",
   "mimetype": "text/x-python",
   "name": "python",
   "nbconvert_exporter": "python",
   "pygments_lexer": "ipython3",
   "version": "3.11.0"
  },
  "orig_nbformat": 4
 },
 "nbformat": 4,
 "nbformat_minor": 2
}
