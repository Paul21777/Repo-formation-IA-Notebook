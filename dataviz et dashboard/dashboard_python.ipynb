{
 "cells": [
  {
   "cell_type": "markdown",
   "id": "1a530831-993b-40d9-9f2d-1aa7b0d35a94",
   "metadata": {},
   "source": [
    "## Dataset\n",
    "\n",
    "The dataset were pulled from [Kaggle](https://www.kaggle.com/datasets/thedevastator/video-game-sales-and-ratings?select=Video_Games.csv)"
   ]
  },
  {
   "cell_type": "code",
   "execution_count": 169,
   "id": "a1f45f8f-71ed-4858-8cd0-dadbd1900edf",
   "metadata": {
    "editable": true,
    "slideshow": {
     "slide_type": ""
    },
    "tags": []
   },
   "outputs": [],
   "source": [
    "import pandas as pd\n",
    "import seaborn as sns\n",
    "import matplotlib.pyplot as plt\n",
    "from IPython.display import display, HTML\n",
    "import plotly.express as px\n",
    "from ipywidgets import interact\n",
    "import ipywidgets as widgets\n",
    "import json\n",
    "import requests\n",
    "import ast\n",
    "import folium\n",
    "\n",
    "\n",
    "from dash import Dash, dash_table, Input, Output, callback, html, dcc\n",
    "import plotly.express as px\n",
    "import plotly.graph_objects as go\n",
    "import dash_leaflet as dl\n",
    "from dash_bootstrap_templates import load_figure_template, ThemeChangerAIO, template_from_url\n",
    "import dash_bootstrap_components as dbc"
   ]
  },
  {
   "cell_type": "markdown",
   "id": "5ce3297d-0d80-4f5f-bd78-9d4fb6f8cfab",
   "metadata": {},
   "source": [
    "# Import video games and continent.json dataset"
   ]
  },
  {
   "cell_type": "code",
   "execution_count": 170,
   "id": "464ea64f-150c-4751-bf17-60adb6415676",
   "metadata": {
    "editable": true,
    "scrolled": true,
    "slideshow": {
     "slide_type": ""
    },
    "tags": []
   },
   "outputs": [],
   "source": [
    "df = pd.read_csv(\"Video_Games.csv\")\n",
    "# df_boundaries = pd.read_json(\"https://gist.githubusercontent.com/cmunns/76fb72646a68202e6bde/raw/8f954b3ca01835bee4af9ae50dfe73eb6ab88fca/continents.json\")\n",
    "df.head(5)\n",
    "\n",
    "geo_json_data = requests.get(\n",
    "    \"https://gist.githubusercontent.com/cmunns/76fb72646a68202e6bde/raw/8f954b3ca01835bee4af9ae50dfe73eb6ab88fca/continents.json\"\n",
    ").json()\n",
    "\n"
   ]
  },
  {
   "cell_type": "code",
   "execution_count": 106,
   "id": "5bbdcd84-7fb4-41c9-b63d-335aaac59cac",
   "metadata": {},
   "outputs": [
    {
     "data": {
      "text/html": [
       "<div>\n",
       "<style scoped>\n",
       "    .dataframe tbody tr th:only-of-type {\n",
       "        vertical-align: middle;\n",
       "    }\n",
       "\n",
       "    .dataframe tbody tr th {\n",
       "        vertical-align: top;\n",
       "    }\n",
       "\n",
       "    .dataframe thead th {\n",
       "        text-align: right;\n",
       "    }\n",
       "</style>\n",
       "<table border=\"1\" class=\"dataframe\">\n",
       "  <thead>\n",
       "    <tr style=\"text-align: right;\">\n",
       "      <th></th>\n",
       "      <th>index</th>\n",
       "      <th>Name</th>\n",
       "      <th>Platform</th>\n",
       "      <th>Year_of_Release</th>\n",
       "      <th>Genre</th>\n",
       "      <th>Publisher</th>\n",
       "      <th>NA_Sales</th>\n",
       "      <th>EU_Sales</th>\n",
       "      <th>JP_Sales</th>\n",
       "      <th>Other_Sales</th>\n",
       "      <th>Global_Sales</th>\n",
       "      <th>Critic_Score</th>\n",
       "      <th>Critic_Count</th>\n",
       "      <th>User_Score</th>\n",
       "      <th>User_Count</th>\n",
       "      <th>Developer</th>\n",
       "      <th>Rating</th>\n",
       "    </tr>\n",
       "  </thead>\n",
       "  <tbody>\n",
       "    <tr>\n",
       "      <th>1764</th>\n",
       "      <td>1764</td>\n",
       "      <td>Kaboom!</td>\n",
       "      <td>2600</td>\n",
       "      <td>1980.0</td>\n",
       "      <td>Misc</td>\n",
       "      <td>Activision</td>\n",
       "      <td>1.07</td>\n",
       "      <td>0.07</td>\n",
       "      <td>0.00</td>\n",
       "      <td>0.01</td>\n",
       "      <td>1.15</td>\n",
       "      <td>NaN</td>\n",
       "      <td>NaN</td>\n",
       "      <td>NaN</td>\n",
       "      <td>NaN</td>\n",
       "      <td>NaN</td>\n",
       "      <td>NaN</td>\n",
       "    </tr>\n",
       "    <tr>\n",
       "      <th>262</th>\n",
       "      <td>262</td>\n",
       "      <td>Asteroids</td>\n",
       "      <td>2600</td>\n",
       "      <td>1980.0</td>\n",
       "      <td>Shooter</td>\n",
       "      <td>Atari</td>\n",
       "      <td>4.00</td>\n",
       "      <td>0.26</td>\n",
       "      <td>0.00</td>\n",
       "      <td>0.05</td>\n",
       "      <td>4.31</td>\n",
       "      <td>NaN</td>\n",
       "      <td>NaN</td>\n",
       "      <td>NaN</td>\n",
       "      <td>NaN</td>\n",
       "      <td>NaN</td>\n",
       "      <td>NaN</td>\n",
       "    </tr>\n",
       "    <tr>\n",
       "      <th>2650</th>\n",
       "      <td>2650</td>\n",
       "      <td>Boxing</td>\n",
       "      <td>2600</td>\n",
       "      <td>1980.0</td>\n",
       "      <td>Fighting</td>\n",
       "      <td>Activision</td>\n",
       "      <td>0.72</td>\n",
       "      <td>0.04</td>\n",
       "      <td>0.00</td>\n",
       "      <td>0.01</td>\n",
       "      <td>0.77</td>\n",
       "      <td>NaN</td>\n",
       "      <td>NaN</td>\n",
       "      <td>NaN</td>\n",
       "      <td>NaN</td>\n",
       "      <td>NaN</td>\n",
       "      <td>NaN</td>\n",
       "    </tr>\n",
       "    <tr>\n",
       "      <th>1968</th>\n",
       "      <td>1968</td>\n",
       "      <td>Defender</td>\n",
       "      <td>2600</td>\n",
       "      <td>1980.0</td>\n",
       "      <td>Misc</td>\n",
       "      <td>Atari</td>\n",
       "      <td>0.99</td>\n",
       "      <td>0.05</td>\n",
       "      <td>0.00</td>\n",
       "      <td>0.01</td>\n",
       "      <td>1.05</td>\n",
       "      <td>NaN</td>\n",
       "      <td>NaN</td>\n",
       "      <td>NaN</td>\n",
       "      <td>NaN</td>\n",
       "      <td>NaN</td>\n",
       "      <td>NaN</td>\n",
       "    </tr>\n",
       "    <tr>\n",
       "      <th>6301</th>\n",
       "      <td>6301</td>\n",
       "      <td>Bridge</td>\n",
       "      <td>2600</td>\n",
       "      <td>1980.0</td>\n",
       "      <td>Misc</td>\n",
       "      <td>Activision</td>\n",
       "      <td>0.25</td>\n",
       "      <td>0.02</td>\n",
       "      <td>0.00</td>\n",
       "      <td>0.00</td>\n",
       "      <td>0.27</td>\n",
       "      <td>NaN</td>\n",
       "      <td>NaN</td>\n",
       "      <td>NaN</td>\n",
       "      <td>NaN</td>\n",
       "      <td>NaN</td>\n",
       "      <td>NaN</td>\n",
       "    </tr>\n",
       "    <tr>\n",
       "      <th>...</th>\n",
       "      <td>...</td>\n",
       "      <td>...</td>\n",
       "      <td>...</td>\n",
       "      <td>...</td>\n",
       "      <td>...</td>\n",
       "      <td>...</td>\n",
       "      <td>...</td>\n",
       "      <td>...</td>\n",
       "      <td>...</td>\n",
       "      <td>...</td>\n",
       "      <td>...</td>\n",
       "      <td>...</td>\n",
       "      <td>...</td>\n",
       "      <td>...</td>\n",
       "      <td>...</td>\n",
       "      <td>...</td>\n",
       "      <td>...</td>\n",
       "    </tr>\n",
       "    <tr>\n",
       "      <th>16526</th>\n",
       "      <td>16526</td>\n",
       "      <td>Virtua Quest</td>\n",
       "      <td>GC</td>\n",
       "      <td>NaN</td>\n",
       "      <td>Role-Playing</td>\n",
       "      <td>Unknown</td>\n",
       "      <td>0.01</td>\n",
       "      <td>0.00</td>\n",
       "      <td>0.00</td>\n",
       "      <td>0.00</td>\n",
       "      <td>0.01</td>\n",
       "      <td>55.0</td>\n",
       "      <td>19.0</td>\n",
       "      <td>5.5</td>\n",
       "      <td>12.0</td>\n",
       "      <td>Artificial Mind and Movement</td>\n",
       "      <td>T</td>\n",
       "    </tr>\n",
       "    <tr>\n",
       "      <th>16782</th>\n",
       "      <td>16782</td>\n",
       "      <td>Monster Hunter 2</td>\n",
       "      <td>PS2</td>\n",
       "      <td>NaN</td>\n",
       "      <td>Role-Playing</td>\n",
       "      <td>Capcom</td>\n",
       "      <td>0.00</td>\n",
       "      <td>0.00</td>\n",
       "      <td>0.63</td>\n",
       "      <td>0.00</td>\n",
       "      <td>0.63</td>\n",
       "      <td>NaN</td>\n",
       "      <td>NaN</td>\n",
       "      <td>NaN</td>\n",
       "      <td>NaN</td>\n",
       "      <td>NaN</td>\n",
       "      <td>NaN</td>\n",
       "    </tr>\n",
       "    <tr>\n",
       "      <th>16818</th>\n",
       "      <td>16818</td>\n",
       "      <td>Metal Gear Solid 2: Substance</td>\n",
       "      <td>XB</td>\n",
       "      <td>NaN</td>\n",
       "      <td>Action</td>\n",
       "      <td>Konami Digital Entertainment</td>\n",
       "      <td>0.38</td>\n",
       "      <td>0.22</td>\n",
       "      <td>0.00</td>\n",
       "      <td>0.03</td>\n",
       "      <td>0.62</td>\n",
       "      <td>87.0</td>\n",
       "      <td>28.0</td>\n",
       "      <td>8.5</td>\n",
       "      <td>39.0</td>\n",
       "      <td>KCEJ</td>\n",
       "      <td>M</td>\n",
       "    </tr>\n",
       "    <tr>\n",
       "      <th>16828</th>\n",
       "      <td>16828</td>\n",
       "      <td>Test Drive Unlimited 2</td>\n",
       "      <td>PS3</td>\n",
       "      <td>NaN</td>\n",
       "      <td>Racing</td>\n",
       "      <td>Atari</td>\n",
       "      <td>0.16</td>\n",
       "      <td>0.34</td>\n",
       "      <td>0.01</td>\n",
       "      <td>0.12</td>\n",
       "      <td>0.62</td>\n",
       "      <td>70.0</td>\n",
       "      <td>43.0</td>\n",
       "      <td>6.1</td>\n",
       "      <td>44.0</td>\n",
       "      <td>Eden</td>\n",
       "      <td>T</td>\n",
       "    </tr>\n",
       "    <tr>\n",
       "      <th>16884</th>\n",
       "      <td>16884</td>\n",
       "      <td>Advance Wars: Days of Ruin</td>\n",
       "      <td>DS</td>\n",
       "      <td>NaN</td>\n",
       "      <td>Strategy</td>\n",
       "      <td>Nintendo</td>\n",
       "      <td>0.43</td>\n",
       "      <td>0.12</td>\n",
       "      <td>0.00</td>\n",
       "      <td>0.05</td>\n",
       "      <td>0.61</td>\n",
       "      <td>86.0</td>\n",
       "      <td>55.0</td>\n",
       "      <td>8.7</td>\n",
       "      <td>96.0</td>\n",
       "      <td>Intelligent Systems</td>\n",
       "      <td>E10+</td>\n",
       "    </tr>\n",
       "  </tbody>\n",
       "</table>\n",
       "<p>16928 rows × 17 columns</p>\n",
       "</div>"
      ],
      "text/plain": [
       "       index                           Name Platform  Year_of_Release  \\\n",
       "1764    1764                        Kaboom!     2600           1980.0   \n",
       "262      262                      Asteroids     2600           1980.0   \n",
       "2650    2650                         Boxing     2600           1980.0   \n",
       "1968    1968                       Defender     2600           1980.0   \n",
       "6301    6301                         Bridge     2600           1980.0   \n",
       "...      ...                            ...      ...              ...   \n",
       "16526  16526                   Virtua Quest       GC              NaN   \n",
       "16782  16782               Monster Hunter 2      PS2              NaN   \n",
       "16818  16818  Metal Gear Solid 2: Substance       XB              NaN   \n",
       "16828  16828         Test Drive Unlimited 2      PS3              NaN   \n",
       "16884  16884     Advance Wars: Days of Ruin       DS              NaN   \n",
       "\n",
       "              Genre                     Publisher  NA_Sales  EU_Sales  \\\n",
       "1764           Misc                    Activision      1.07      0.07   \n",
       "262         Shooter                         Atari      4.00      0.26   \n",
       "2650       Fighting                    Activision      0.72      0.04   \n",
       "1968           Misc                         Atari      0.99      0.05   \n",
       "6301           Misc                    Activision      0.25      0.02   \n",
       "...             ...                           ...       ...       ...   \n",
       "16526  Role-Playing                       Unknown      0.01      0.00   \n",
       "16782  Role-Playing                        Capcom      0.00      0.00   \n",
       "16818        Action  Konami Digital Entertainment      0.38      0.22   \n",
       "16828        Racing                         Atari      0.16      0.34   \n",
       "16884      Strategy                      Nintendo      0.43      0.12   \n",
       "\n",
       "       JP_Sales  Other_Sales  Global_Sales  Critic_Score  Critic_Count  \\\n",
       "1764       0.00         0.01          1.15           NaN           NaN   \n",
       "262        0.00         0.05          4.31           NaN           NaN   \n",
       "2650       0.00         0.01          0.77           NaN           NaN   \n",
       "1968       0.00         0.01          1.05           NaN           NaN   \n",
       "6301       0.00         0.00          0.27           NaN           NaN   \n",
       "...         ...          ...           ...           ...           ...   \n",
       "16526      0.00         0.00          0.01          55.0          19.0   \n",
       "16782      0.63         0.00          0.63           NaN           NaN   \n",
       "16818      0.00         0.03          0.62          87.0          28.0   \n",
       "16828      0.01         0.12          0.62          70.0          43.0   \n",
       "16884      0.00         0.05          0.61          86.0          55.0   \n",
       "\n",
       "      User_Score  User_Count                     Developer Rating  \n",
       "1764         NaN         NaN                           NaN    NaN  \n",
       "262          NaN         NaN                           NaN    NaN  \n",
       "2650         NaN         NaN                           NaN    NaN  \n",
       "1968         NaN         NaN                           NaN    NaN  \n",
       "6301         NaN         NaN                           NaN    NaN  \n",
       "...          ...         ...                           ...    ...  \n",
       "16526        5.5        12.0  Artificial Mind and Movement      T  \n",
       "16782        NaN         NaN                           NaN    NaN  \n",
       "16818        8.5        39.0                          KCEJ      M  \n",
       "16828        6.1        44.0                          Eden      T  \n",
       "16884        8.7        96.0           Intelligent Systems   E10+  \n",
       "\n",
       "[16928 rows x 17 columns]"
      ]
     },
     "execution_count": 106,
     "metadata": {},
     "output_type": "execute_result"
    },
    {
     "name": "stdout",
     "output_type": "stream",
     "text": [
      "[]\n"
     ]
    }
   ],
   "source": []
  },
  {
   "cell_type": "code",
   "execution_count": 171,
   "id": "e60c936c-a9c6-4e57-abf6-7efcf33a45e3",
   "metadata": {},
   "outputs": [],
   "source": [
    "DF_YEAR_MIN = int(min(df[\"Year_of_Release\"]))\n",
    "DF_YEAR_MAX = int(max(df[\"Year_of_Release\"]))"
   ]
  },
  {
   "cell_type": "code",
   "execution_count": 172,
   "id": "89d3fe13-c0c3-4537-90ae-593acd794e69",
   "metadata": {
    "editable": true,
    "slideshow": {
     "slide_type": ""
    },
    "tags": []
   },
   "outputs": [],
   "source": [
    "\n",
    "\n",
    "m = folium.Map([0, 0], zoom_start=3)\n",
    "\n",
    "folium.GeoJson(geo_json_data, zoom_on_click=True).add_to(m)\n",
    "\n",
    "def field_type_colour(feature):\n",
    "    if feature[\"properties\"][\"continent\"] == \"africa\":\n",
    "        return 'orange'\n",
    "    elif feature[\"properties\"][\"continent\"] == \"asia\":\n",
    "        return 'green'\n",
    "    elif feature[\"properties\"][\"continent\"] == \"europe\":\n",
    "        return 'red'\n",
    "    elif feature[\"properties\"][\"continent\"] == \"northAmerica\":\n",
    "        return 'blue'\n",
    "    elif feature[\"properties\"][\"continent\"] == \"southAmerica\":\n",
    "        return 'yellow'\n",
    "    elif feature[\"properties\"][\"continent\"] == \"oceania\":\n",
    "        return 'purple'\n",
    "\n",
    "folium.GeoJson(\n",
    "    geo_json_data,\n",
    "    style_function=lambda feature: {'fillColor':field_type_colour(feature), \n",
    "                                    'fillOpacity':0.9, 'weight':0},\n",
    "    tooltip=folium.features.GeoJsonTooltip(fields=[\"continent\"], \n",
    "                                           aliases=[\"Continent\"], \n",
    "                                           labels=True, \n",
    "                                           sticky=True)).add_to(m)\n",
    "\n",
    "m.save(\"map.html\")"
   ]
  },
  {
   "cell_type": "markdown",
   "id": "47964613-558f-4ec9-8f84-082412311d7d",
   "metadata": {},
   "source": [
    "# Choix des graphs\n",
    "- Monter évolution sur une période de temps avec animation (à la fin) [source](https://plotly.com/python/plotly-express/#outline-maps)\n",
    "\n",
    "- "
   ]
  },
  {
   "cell_type": "markdown",
   "id": "80ac3dd5-5751-45a9-963b-99c4d7feba8d",
   "metadata": {},
   "source": [
    "# Choix des mesures\n",
    "\n",
    "utiliser carte folium pour afficher les mesures.\n",
    "\n",
    "- Nombre de vente des jeux dans chaque zone\n",
    "- Plateforme populaire par zone\n",
    "- genre le plus populare par zone\n",
    "- Genre le plus vendu durant cette période\n",
    "- Les ventes de jeux vidéos en fonction des années"
   ]
  },
  {
   "cell_type": "markdown",
   "id": "2d81c46a-497b-4d1c-8922-f24050f6a569",
   "metadata": {},
   "source": [
    "## test dash"
   ]
  },
  {
   "cell_type": "code",
   "execution_count": 173,
   "id": "7af7e031-66e6-4f2c-a9a6-04def205afac",
   "metadata": {
    "scrolled": true
   },
   "outputs": [
    {
     "name": "stdout",
     "output_type": "stream",
     "text": [
      "['Sports' 'Platform' 'Racing' 'Role-Playing' 'Puzzle' 'Misc' 'Shooter'\n",
      " 'Simulation' 'Action' 'Fighting' 'Adventure' 'Strategy']\n"
     ]
    }
   ],
   "source": [
    "\n",
    "df.drop(columns=[\"index\", \"Publisher\",\"Critic_Count\", \"User_Count\", \"User_Score\" ,\"Rating\", \"Developer\", \"Critic_Score\"], inplace=True)\n",
    "\n",
    "value_counts = df['Genre'].unique() \n",
    "\n",
    "value_counts = value_counts[:-1]\n",
    "\n",
    "print(value_counts)\n",
    "\n",
    "# filtered_df_best_sales_per_genre = df[(df['Genre'] == 2000) & (df['Year_of_Release'] <= 2010)]"
   ]
  },
  {
   "cell_type": "markdown",
   "id": "44c732e0-9cd9-4121-9828-f0a17a868cd0",
   "metadata": {},
   "source": [
    "## App instance\n"
   ]
  },
  {
   "cell_type": "code",
   "execution_count": 174,
   "id": "880a7047-4101-4d8d-ae2a-603fcba8c9cf",
   "metadata": {},
   "outputs": [],
   "source": [
    "PAGE_SIZE = 10\n",
    "theme = dbc.themes.LUX\n",
    "\n",
    "css = 'https://cdnjs.cloudflare.com/ajax/libs/font-awesome/4.7.0/css/font-awesome.min.css'\n",
    "\n",
    "app = Dash(__name__, external_stylesheets=[theme, css])"
   ]
  },
  {
   "cell_type": "markdown",
   "id": "83a1dcf4-27b9-42d9-a8b0-ee92bd4c4f2e",
   "metadata": {},
   "source": [
    "## Title"
   ]
  },
  {
   "cell_type": "code",
   "execution_count": 175,
   "id": "18573f94-0e74-4687-af00-85a1205ca608",
   "metadata": {},
   "outputs": [],
   "source": [
    "title = html.H1(\"Dataset\", style={\"textAlign\":\"center\",\"paddingBottom\" : \"20px\"})"
   ]
  },
  {
   "cell_type": "markdown",
   "id": "32068054-1bcc-497f-a239-595c27615158",
   "metadata": {},
   "source": [
    "## Body"
   ]
  },
  {
   "cell_type": "markdown",
   "id": "7747ec7e-da14-4ef0-bf18-bbcd07196443",
   "metadata": {},
   "source": [
    "### Controls and text"
   ]
  },
  {
   "cell_type": "code",
   "execution_count": 176,
   "id": "fa7f1f85-d1d8-4bee-b3d4-86b74553d596",
   "metadata": {},
   "outputs": [],
   "source": [
    "# Input\n",
    "introduction = '''\n",
    "# Tools\n",
    "- fejizofezfzeef\n",
    "\n",
    "efzfezfze\n",
    "fezfzefze\n",
    "fezfzfez\n",
    "fzefeze\n",
    "\n",
    "'''\n",
    "\n",
    "# Set slider min a max accodring to dataframe min max value in year column\n",
    "year_slider = html.Div([dcc.RangeSlider(DF_YEAR_MIN, DF_YEAR_MAX, id='my-slider', step=1, marks=None, tooltip={\"placement\": \"bottom\", \"always_visible\": True}), \n",
    "                        html.Div(id='output-container-range-slider')], style = {\"textAlign\" : \"center\"})\n",
    "\n",
    "\n",
    "parameters = html.Div([year_slider], style={\"width\" : \"50%\"})\n",
    "\n",
    "# Output\n",
    "\n",
    "\n",
    "\n",
    "# Callbacks\n",
    "\n",
    "@callback(\n",
    "    Output('output-container-range-slider', 'children'),\n",
    "    Input('my-slider', 'value'))\n",
    "def update_output(value):\n",
    "    return ('{}'.format(value[1:-1])) "
   ]
  },
  {
   "cell_type": "markdown",
   "id": "ca08a3dd-fa06-49d1-a03b-7c2e40f858ab",
   "metadata": {},
   "source": [
    "### Datatable"
   ]
  },
  {
   "cell_type": "code",
   "execution_count": 177,
   "id": "1870a0cc-fa4b-46c4-9cc8-d98f17c8ad88",
   "metadata": {},
   "outputs": [],
   "source": [
    "# Input\n",
    "df_table = dash_table.DataTable(id='table-multicol-sorting',\n",
    "                                columns=[{\"name\": i, \"id\": i} for i in df.columns],\n",
    "                                page_current=0,\n",
    "                                page_size=PAGE_SIZE,\n",
    "                                page_action='custom',\n",
    "                                sort_action='custom',\n",
    "                                sort_mode='multi',\n",
    "                                sort_by=[],\n",
    ")\n",
    "# Output\n",
    "\n",
    "# df.query(\"Year_of_Release\" < )\n",
    "\n",
    "# Callbacks\n",
    "@callback(\n",
    "    Output('table-multicol-sorting', \"data\"),\n",
    "    Input('table-multicol-sorting', \"page_current\"),\n",
    "    Input('table-multicol-sorting', \"page_size\"),\n",
    "    Input('table-multicol-sorting', \"sort_by\"))\n",
    "\n",
    "def update_table(page_current, page_size, sort_by):\n",
    "    print(sort_by)\n",
    "    \n",
    "    if year is None:\n",
    "        filtered_df = df.copy()\n",
    "    else:\n",
    "        filtered_df = (df[df['Year_of_Release'] >= DF_YEAR_MIN]) and (df[df[\"Year_of_Release\"] <= DF_YEAR_MAX]) \n",
    "        \n",
    "    if len(sort_by):\n",
    "        filtered_df = filtered_df.sort_values(\n",
    "            [col['column_id'] for col in sort_by],\n",
    "            ascending=[\n",
    "                col['direction'] == 'asc'\n",
    "                for col in sort_by],\n",
    "            inplace=False\n",
    "        )\n",
    "\n",
    "    return filtered_df.iloc[\n",
    "        page_current*page_size:(page_current+ 1)*page_size\n",
    "    ].to_dict('records')"
   ]
  },
  {
   "cell_type": "markdown",
   "id": "d57604ed-2a46-48df-819b-10aecd3c4f90",
   "metadata": {},
   "source": [
    "### Map"
   ]
  },
  {
   "cell_type": "code",
   "execution_count": 178,
   "id": "da67bfbd-cf1f-4819-9f8d-230581e8f88f",
   "metadata": {},
   "outputs": [],
   "source": [
    "# Input\n",
    "map_frame = html.Iframe(id = \"map\", \n",
    "            srcDoc = open(\"map.html\", \"r\").read(), \n",
    "            style={\"width\" : \"100%\", \"height\" : \"600px\"})\n",
    "# Output\n",
    "\n",
    "# Callbacks"
   ]
  },
  {
   "cell_type": "markdown",
   "id": "458b2191-ff16-4e4f-b2e8-9bb649cbfaab",
   "metadata": {},
   "source": [
    "### Figure"
   ]
  },
  {
   "cell_type": "code",
   "execution_count": 179,
   "id": "1787d3f8-c911-4a81-a35c-04837e43c66a",
   "metadata": {},
   "outputs": [],
   "source": [
    "# Input\n",
    "\n",
    "# Output\n",
    "\n",
    "# Callbacks"
   ]
  },
  {
   "cell_type": "markdown",
   "id": "d9b7d6ee-095b-420d-a1a6-43e86897212c",
   "metadata": {},
   "source": [
    "### Body"
   ]
  },
  {
   "cell_type": "code",
   "execution_count": 180,
   "id": "5c148f34-f1ab-4634-a62c-faa75edb083e",
   "metadata": {
    "scrolled": true
   },
   "outputs": [],
   "source": [
    "# Input\n",
    "\n",
    "# Output\n",
    "body = html.Div([dbc.Row([dbc.Col(md=5, children= [dcc.Markdown(introduction), parameters]),\n",
    "                         dbc.Col(md=5, children=[df_table])]),\n",
    "                \n",
    "                dbc.Row([dbc.Col(md=5, children=[map_frame])])\n",
    "                    \n",
    "                ],\n",
    "               style = {\"width\" : \"80%\",\n",
    "                        \"height\" : \"50%\",\n",
    "                        \"margin\" : \"auto\",\n",
    "                        \"padding\" : \"15px\"})"
   ]
  },
  {
   "cell_type": "markdown",
   "id": "0047dfb8-a23d-4085-bf3d-474a90df684d",
   "metadata": {},
   "source": [
    "## App layout"
   ]
  },
  {
   "cell_type": "code",
   "execution_count": 181,
   "id": "b9245165-cd43-49ef-bae8-e1b36f4eb4ad",
   "metadata": {
    "editable": true,
    "slideshow": {
     "slide_type": ""
    },
    "tags": []
   },
   "outputs": [],
   "source": [
    "app.layout = html.Div([title,\n",
    "                      body],\n",
    "                     style= {\"marginTop\" : \"15px\"})"
   ]
  },
  {
   "cell_type": "markdown",
   "id": "b252b34d-13de-470c-89f1-89ae493f51c7",
   "metadata": {},
   "source": [
    "## Run"
   ]
  },
  {
   "cell_type": "code",
   "execution_count": 182,
   "id": "1c52aeae-0fe5-4359-8cd0-4174805e2963",
   "metadata": {},
   "outputs": [
    {
     "name": "stdout",
     "output_type": "stream",
     "text": [
      "Dash app running on http://127.0.0.1:8050/\n"
     ]
    },
    {
     "name": "stderr",
     "output_type": "stream",
     "text": [
      "[2024-01-15 09:08:16,246] ERROR in app: Exception on /_dash-update-component [POST]\n",
      "Traceback (most recent call last):\n",
      "  File \"C:\\Users\\pault\\anaconda3\\envs\\Datavizetdashboard\\Lib\\site-packages\\flask\\app.py\", line 2529, in wsgi_app\n",
      "    response = self.full_dispatch_request()\n",
      "               ^^^^^^^^^^^^^^^^^^^^^^^^^^^^\n",
      "  File \"C:\\Users\\pault\\anaconda3\\envs\\Datavizetdashboard\\Lib\\site-packages\\flask\\app.py\", line 1825, in full_dispatch_request\n",
      "    rv = self.handle_user_exception(e)\n",
      "         ^^^^^^^^^^^^^^^^^^^^^^^^^^^^^\n",
      "  File \"C:\\Users\\pault\\anaconda3\\envs\\Datavizetdashboard\\Lib\\site-packages\\flask\\app.py\", line 1823, in full_dispatch_request\n",
      "    rv = self.dispatch_request()\n",
      "         ^^^^^^^^^^^^^^^^^^^^^^^\n",
      "  File \"C:\\Users\\pault\\anaconda3\\envs\\Datavizetdashboard\\Lib\\site-packages\\flask\\app.py\", line 1799, in dispatch_request\n",
      "    return self.ensure_sync(self.view_functions[rule.endpoint])(**view_args)\n",
      "           ^^^^^^^^^^^^^^^^^^^^^^^^^^^^^^^^^^^^^^^^^^^^^^^^^^^^^^^^^^^^^^^^^\n",
      "  File \"C:\\Users\\pault\\anaconda3\\envs\\Datavizetdashboard\\Lib\\site-packages\\dash\\dash.py\", line 1310, in dispatch\n",
      "    ctx.run(\n",
      "  File \"C:\\Users\\pault\\anaconda3\\envs\\Datavizetdashboard\\Lib\\site-packages\\dash\\_callback.py\", line 442, in add_context\n",
      "    output_value = func(*func_args, **func_kwargs)  # %% callback invoked %%\n",
      "                   ^^^^^^^^^^^^^^^^^^^^^^^^^^^^^^^\n",
      "  File \"C:\\Users\\pault\\AppData\\Local\\Temp\\ipykernel_19400\\535511168.py\", line 30, in update_output\n",
      "    return ('{}'.format(value[1:-1]))\n",
      "                       ~~~~~^^^^^^\n",
      "TypeError: 'NoneType' object is not subscriptable\n",
      "[2024-01-15 09:08:16,254] ERROR in app: Exception on /_dash-update-component [POST]\n",
      "Traceback (most recent call last):\n",
      "  File \"C:\\Users\\pault\\anaconda3\\envs\\Datavizetdashboard\\Lib\\site-packages\\flask\\app.py\", line 2529, in wsgi_app\n",
      "    response = self.full_dispatch_request()\n",
      "               ^^^^^^^^^^^^^^^^^^^^^^^^^^^^\n",
      "  File \"C:\\Users\\pault\\anaconda3\\envs\\Datavizetdashboard\\Lib\\site-packages\\flask\\app.py\", line 1825, in full_dispatch_request\n",
      "    rv = self.handle_user_exception(e)\n",
      "         ^^^^^^^^^^^^^^^^^^^^^^^^^^^^^\n",
      "  File \"C:\\Users\\pault\\anaconda3\\envs\\Datavizetdashboard\\Lib\\site-packages\\flask\\app.py\", line 1823, in full_dispatch_request\n",
      "    rv = self.dispatch_request()\n",
      "         ^^^^^^^^^^^^^^^^^^^^^^^\n",
      "  File \"C:\\Users\\pault\\anaconda3\\envs\\Datavizetdashboard\\Lib\\site-packages\\flask\\app.py\", line 1799, in dispatch_request\n",
      "    return self.ensure_sync(self.view_functions[rule.endpoint])(**view_args)\n",
      "           ^^^^^^^^^^^^^^^^^^^^^^^^^^^^^^^^^^^^^^^^^^^^^^^^^^^^^^^^^^^^^^^^^\n",
      "  File \"C:\\Users\\pault\\anaconda3\\envs\\Datavizetdashboard\\Lib\\site-packages\\dash\\dash.py\", line 1310, in dispatch\n",
      "    ctx.run(\n",
      "  File \"C:\\Users\\pault\\anaconda3\\envs\\Datavizetdashboard\\Lib\\site-packages\\dash\\_callback.py\", line 442, in add_context\n",
      "    output_value = func(*func_args, **func_kwargs)  # %% callback invoked %%\n",
      "                   ^^^^^^^^^^^^^^^^^^^^^^^^^^^^^^^\n",
      "  File \"C:\\Users\\pault\\AppData\\Local\\Temp\\ipykernel_19400\\470906076.py\", line 25, in update_table\n",
      "    if year is None:\n",
      "       ^^^^\n",
      "NameError: name 'year' is not defined\n"
     ]
    },
    {
     "name": "stdout",
     "output_type": "stream",
     "text": [
      "[]\n"
     ]
    }
   ],
   "source": [
    "if __name__ == '__main__':\n",
    "    app.run_server(jupyter_mode=\"external\") # A repasser sur \"tab\" avant de rendre sur simplon"
   ]
  },
  {
   "cell_type": "markdown",
   "id": "500400c5-7cd2-45ea-ae21-5ff9fe67b639",
   "metadata": {},
   "source": [
    "## Brouillon"
   ]
  },
  {
   "cell_type": "code",
   "execution_count": 17,
   "id": "b4d0a9cd-20c7-457e-af3f-f8dc5babb0aa",
   "metadata": {
    "scrolled": true
   },
   "outputs": [
    {
     "name": "stdout",
     "output_type": "stream",
     "text": [
      "africa\n"
     ]
    },
    {
     "data": {
      "application/vnd.jupyter.widget-view+json": {
       "model_id": "873192c4b7de4c4a984a4a6f6f5247f3",
       "version_major": 2,
       "version_minor": 0
      },
      "text/plain": [
       "interactive(children=(IntSlider(value=10, description='x', max=30, min=-10), Output()), _dom_classes=('widget-…"
      ]
     },
     "metadata": {},
     "output_type": "display_data"
    },
    {
     "data": {
      "application/vnd.jupyter.widget-view+json": {
       "model_id": "51504c63cd484b08aa4c9b5726c68e7d",
       "version_major": 2,
       "version_minor": 0
      },
      "text/plain": [
       "interactive(children=(Checkbox(value=True, description='x'), Output()), _dom_classes=('widget-interact',))"
      ]
     },
     "metadata": {},
     "output_type": "display_data"
    }
   ],
   "source": [
    "asia_boundaries = geo_json_data[\"features\"]\n",
    "africa_boundaries = geo_json_data[\"features\"][1][\"properties\"][\"continent\"]\n",
    "europe_boundaries = geo_json_data[\"features\"][2]\n",
    "\n",
    "#print(asia_boundaries[\"properties\"])\n",
    "#print(asia_boundaries[\"geometry\"][\"coordinates\"])\n",
    "print(africa_boundaries)\n",
    "\n",
    "\n",
    "\n",
    "def f(x):\n",
    "    return x\n",
    "\n",
    "\n",
    "\n",
    "interact(f, x=10);\n",
    "\n",
    "\n",
    "\n",
    "interact(f, x=True);\n",
    "\n"
   ]
  },
  {
   "cell_type": "code",
   "execution_count": null,
   "id": "a2271a66-921d-4094-b7a7-45a2c223d8d2",
   "metadata": {},
   "outputs": [],
   "source": [
    "value_counts = df['Genre'].value_counts()\n",
    "value_counts = df['Year_of_Release'].value_counts()\n",
    "\n",
    "# Filtrer seulement les jeux sorties entre 2000 et 2010\n",
    "\n",
    "filtered_df = df[(df['Year_of_Release'] >= 2000) & (df['Year_of_Release'] <= 2010)]\n",
    "value_counts = filtered_df['Genre'].value_counts()\n",
    "\n",
    "\n",
    "filtered_df.describe()"
   ]
  }
 ],
 "metadata": {
  "kernelspec": {
   "display_name": "Python 3 (ipykernel)",
   "language": "python",
   "name": "python3"
  },
  "language_info": {
   "codemirror_mode": {
    "name": "ipython",
    "version": 3
   },
   "file_extension": ".py",
   "mimetype": "text/x-python",
   "name": "python",
   "nbconvert_exporter": "python",
   "pygments_lexer": "ipython3",
   "version": "3.11.7"
  }
 },
 "nbformat": 4,
 "nbformat_minor": 5
}
